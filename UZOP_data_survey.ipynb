{
  "nbformat": 4,
  "nbformat_minor": 0,
  "metadata": {
    "colab": {
      "name": "UZOP-data survey.ipynb",
      "provenance": [],
      "collapsed_sections": [],
      "mount_file_id": "1NxTFKL9ChfiaE1m5kH4wPmIX73KXufNu",
      "authorship_tag": "ABX9TyMj1hUjkxfZZ/TJ4p9aiRvS",
      "include_colab_link": true
    },
    "kernelspec": {
      "name": "python3",
      "display_name": "Python 3"
    },
    "language_info": {
      "name": "python"
    }
  },
  "cells": [
    {
      "cell_type": "markdown",
      "metadata": {
        "id": "view-in-github",
        "colab_type": "text"
      },
      "source": [
        "<a href=\"https://colab.research.google.com/github/MarijaDragosevic/UUZOP-data-survey/blob/main/UZOP_data_survey.ipynb\" target=\"_parent\"><img src=\"https://colab.research.google.com/assets/colab-badge.svg\" alt=\"Open In Colab\"/></a>"
      ]
    },
    {
      "cell_type": "markdown",
      "source": [
        "# **Classification of undesirable events in oil well operation**\n",
        "### Data survey using 3w dataset.\n",
        "######Dataset should be uploaded into google drive. Main folder is named data with subfolders named 0, 1, 2, 3, 4, 5, 6, 7, 8.\n"
      ],
      "metadata": {
        "id": "6g0_pVkorHtI"
      }
    },
    {
      "cell_type": "code",
      "metadata": {
        "id": "eGiHYgg92nUm",
        "colab": {
          "base_uri": "https://localhost:8080/"
        },
        "outputId": "f3c53dbd-de16-48f9-d845-8ea1a97dfca5"
      },
      "source": [
        "from google.colab import drive\n",
        "drive.mount('/content/gdrive',force_remount=True)"
      ],
      "execution_count": 11,
      "outputs": [
        {
          "output_type": "stream",
          "name": "stdout",
          "text": [
            "Mounted at /content/gdrive\n"
          ]
        }
      ]
    },
    {
      "cell_type": "code",
      "metadata": {
        "id": "PlUvofEnMyKG",
        "colab": {
          "base_uri": "https://localhost:8080/"
        },
        "outputId": "b9160080-7c9c-4add-8378-7101d7db51fa"
      },
      "source": [
        "pip install tsfresh\n"
      ],
      "execution_count": 12,
      "outputs": [
        {
          "output_type": "stream",
          "name": "stdout",
          "text": [
            "Requirement already satisfied: tsfresh in /usr/local/lib/python3.7/dist-packages (0.18.0)\n",
            "Requirement already satisfied: tqdm>=4.10.0 in /usr/local/lib/python3.7/dist-packages (from tsfresh) (4.62.3)\n",
            "Requirement already satisfied: dask[dataframe]>=2.9.0 in /usr/local/lib/python3.7/dist-packages (from tsfresh) (2.12.0)\n",
            "Requirement already satisfied: statsmodels>=0.9.0 in /usr/local/lib/python3.7/dist-packages (from tsfresh) (0.10.2)\n",
            "Requirement already satisfied: distributed>=2.11.0 in /usr/local/lib/python3.7/dist-packages (from tsfresh) (2.30.1)\n",
            "Requirement already satisfied: stumpy>=1.7.2 in /usr/local/lib/python3.7/dist-packages (from tsfresh) (1.10.0)\n",
            "Requirement already satisfied: numpy>=1.15.1 in /usr/local/lib/python3.7/dist-packages (from tsfresh) (1.19.5)\n",
            "Requirement already satisfied: pandas>=0.25.0 in /usr/local/lib/python3.7/dist-packages (from tsfresh) (1.1.5)\n",
            "Requirement already satisfied: matrixprofile>=1.1.10<2.0.0 in /usr/local/lib/python3.7/dist-packages (from tsfresh) (1.1.10)\n",
            "Requirement already satisfied: scipy>=1.2.0 in /usr/local/lib/python3.7/dist-packages (from tsfresh) (1.7.3)\n",
            "Requirement already satisfied: patsy>=0.4.1 in /usr/local/lib/python3.7/dist-packages (from tsfresh) (0.5.2)\n",
            "Requirement already satisfied: scikit-learn>=0.22.0 in /usr/local/lib/python3.7/dist-packages (from tsfresh) (1.0.1)\n",
            "Requirement already satisfied: requests>=2.9.1 in /usr/local/lib/python3.7/dist-packages (from tsfresh) (2.23.0)\n",
            "Requirement already satisfied: partd>=0.3.10 in /usr/local/lib/python3.7/dist-packages (from dask[dataframe]>=2.9.0->tsfresh) (1.2.0)\n",
            "Requirement already satisfied: fsspec>=0.6.0 in /usr/local/lib/python3.7/dist-packages (from dask[dataframe]>=2.9.0->tsfresh) (2021.11.1)\n",
            "Requirement already satisfied: toolz>=0.7.3 in /usr/local/lib/python3.7/dist-packages (from dask[dataframe]>=2.9.0->tsfresh) (0.11.2)\n",
            "Requirement already satisfied: msgpack>=0.6.0 in /usr/local/lib/python3.7/dist-packages (from distributed>=2.11.0->tsfresh) (1.0.3)\n",
            "Requirement already satisfied: click>=6.6 in /usr/local/lib/python3.7/dist-packages (from distributed>=2.11.0->tsfresh) (7.1.2)\n",
            "Requirement already satisfied: sortedcontainers!=2.0.0,!=2.0.1 in /usr/local/lib/python3.7/dist-packages (from distributed>=2.11.0->tsfresh) (2.4.0)\n",
            "Requirement already satisfied: psutil>=5.0 in /usr/local/lib/python3.7/dist-packages (from distributed>=2.11.0->tsfresh) (5.4.8)\n",
            "Requirement already satisfied: setuptools in /usr/local/lib/python3.7/dist-packages (from distributed>=2.11.0->tsfresh) (57.4.0)\n",
            "Requirement already satisfied: cloudpickle>=1.5.0 in /usr/local/lib/python3.7/dist-packages (from distributed>=2.11.0->tsfresh) (2.0.0)\n",
            "Requirement already satisfied: tornado>=5 in /usr/local/lib/python3.7/dist-packages (from distributed>=2.11.0->tsfresh) (5.1.1)\n",
            "Requirement already satisfied: pyyaml in /usr/local/lib/python3.7/dist-packages (from distributed>=2.11.0->tsfresh) (3.13)\n",
            "Requirement already satisfied: tblib>=1.6.0 in /usr/local/lib/python3.7/dist-packages (from distributed>=2.11.0->tsfresh) (1.7.0)\n",
            "Requirement already satisfied: zict>=0.1.3 in /usr/local/lib/python3.7/dist-packages (from distributed>=2.11.0->tsfresh) (2.0.0)\n",
            "Requirement already satisfied: matplotlib>=3.0.3 in /usr/local/lib/python3.7/dist-packages (from matrixprofile>=1.1.10<2.0.0->tsfresh) (3.2.2)\n",
            "Requirement already satisfied: protobuf==3.11.2 in /usr/local/lib/python3.7/dist-packages (from matrixprofile>=1.1.10<2.0.0->tsfresh) (3.11.2)\n",
            "Requirement already satisfied: six>=1.9 in /usr/local/lib/python3.7/dist-packages (from protobuf==3.11.2->matrixprofile>=1.1.10<2.0.0->tsfresh) (1.15.0)\n",
            "Requirement already satisfied: python-dateutil>=2.1 in /usr/local/lib/python3.7/dist-packages (from matplotlib>=3.0.3->matrixprofile>=1.1.10<2.0.0->tsfresh) (2.8.2)\n",
            "Requirement already satisfied: kiwisolver>=1.0.1 in /usr/local/lib/python3.7/dist-packages (from matplotlib>=3.0.3->matrixprofile>=1.1.10<2.0.0->tsfresh) (1.3.2)\n",
            "Requirement already satisfied: cycler>=0.10 in /usr/local/lib/python3.7/dist-packages (from matplotlib>=3.0.3->matrixprofile>=1.1.10<2.0.0->tsfresh) (0.11.0)\n",
            "Requirement already satisfied: pyparsing!=2.0.4,!=2.1.2,!=2.1.6,>=2.0.1 in /usr/local/lib/python3.7/dist-packages (from matplotlib>=3.0.3->matrixprofile>=1.1.10<2.0.0->tsfresh) (3.0.6)\n",
            "Requirement already satisfied: pytz>=2017.2 in /usr/local/lib/python3.7/dist-packages (from pandas>=0.25.0->tsfresh) (2018.9)\n",
            "Requirement already satisfied: locket in /usr/local/lib/python3.7/dist-packages (from partd>=0.3.10->dask[dataframe]>=2.9.0->tsfresh) (0.2.1)\n",
            "Requirement already satisfied: idna<3,>=2.5 in /usr/local/lib/python3.7/dist-packages (from requests>=2.9.1->tsfresh) (2.10)\n",
            "Requirement already satisfied: certifi>=2017.4.17 in /usr/local/lib/python3.7/dist-packages (from requests>=2.9.1->tsfresh) (2021.10.8)\n",
            "Requirement already satisfied: chardet<4,>=3.0.2 in /usr/local/lib/python3.7/dist-packages (from requests>=2.9.1->tsfresh) (3.0.4)\n",
            "Requirement already satisfied: urllib3!=1.25.0,!=1.25.1,<1.26,>=1.21.1 in /usr/local/lib/python3.7/dist-packages (from requests>=2.9.1->tsfresh) (1.24.3)\n",
            "Requirement already satisfied: threadpoolctl>=2.0.0 in /usr/local/lib/python3.7/dist-packages (from scikit-learn>=0.22.0->tsfresh) (3.0.0)\n",
            "Requirement already satisfied: joblib>=0.11 in /usr/local/lib/python3.7/dist-packages (from scikit-learn>=0.22.0->tsfresh) (1.1.0)\n",
            "Requirement already satisfied: numba>=0.48 in /usr/local/lib/python3.7/dist-packages (from stumpy>=1.7.2->tsfresh) (0.51.2)\n",
            "Requirement already satisfied: llvmlite<0.35,>=0.34.0.dev0 in /usr/local/lib/python3.7/dist-packages (from numba>=0.48->stumpy>=1.7.2->tsfresh) (0.34.0)\n",
            "Requirement already satisfied: heapdict in /usr/local/lib/python3.7/dist-packages (from zict>=0.1.3->distributed>=2.11.0->tsfresh) (1.0.1)\n"
          ]
        }
      ]
    },
    {
      "cell_type": "code",
      "metadata": {
        "id": "OJvTcx6DqRrQ",
        "colab": {
          "base_uri": "https://localhost:8080/"
        },
        "outputId": "282613d1-8e13-4759-bd05-4ec31348e4b8"
      },
      "source": [
        "import pandas as pd\n",
        "import numpy as np\n",
        "import matplotlib.pyplot as plt\n",
        "import matplotlib.dates as mdates\n",
        "import matplotlib.colors as mcolors\n",
        "from matplotlib.patches import Patch\n",
        "from pathlib import Path\n",
        "from multiprocessing.dummy import Pool as ThreadPool\n",
        "from collections import defaultdict\n",
        "from natsort import natsorted\n",
        "import tsfresh"
      ],
      "execution_count": 13,
      "outputs": [
        {
          "output_type": "stream",
          "name": "stderr",
          "text": [
            "/usr/local/lib/python3.7/dist-packages/statsmodels/tools/_testing.py:19: FutureWarning: pandas.util.testing is deprecated. Use the functions in the public API at pandas.testing instead.\n",
            "  import pandas.util.testing as tm\n",
            "/usr/local/lib/python3.7/dist-packages/numba/np/ufunc/parallel.py:363: NumbaWarning: The TBB threading layer requires TBB version 2019.5 or later i.e., TBB_INTERFACE_VERSION >= 11005. Found TBB_INTERFACE_VERSION = 9107. The TBB threading layer is disabled.\n",
            "  warnings.warn(problem)\n"
          ]
        }
      ]
    },
    {
      "cell_type": "code",
      "metadata": {
        "id": "2nWnWpcCqTe4"
      },
      "source": [
        "%matplotlib inline\n",
        "%config InlineBackend.figure_format = 'svg'"
      ],
      "execution_count": 15,
      "outputs": []
    },
    {
      "cell_type": "code",
      "metadata": {
        "id": "JRqOwnDCqV18"
      },
      "source": [
        "data_path = Path('gdrive/MyDrive/', 'data')\n",
        "events_names = {0: 'Normal',\n",
        "                1: 'Abrupt Increase of BSW',\n",
        "                2: 'Spurious Closure of DHSV',\n",
        "                3: 'Severe Slugging',\n",
        "                4: 'Flow Instability',\n",
        "                5: 'Rapid Productivity Loss',\n",
        "                6: 'Quick Restriction in PCK',\n",
        "                7: 'Scaling in PCK',\n",
        "                8: 'Hydrate in Production Line'\n",
        "               }\n",
        "columns = ['P-PDG',\n",
        "           'P-TPT',\n",
        "           'T-TPT',\n",
        "           'P-MON-CKP',\n",
        "           'T-JUS-CKP',\n",
        "           'P-JUS-CKGL',\n",
        "           'T-JUS-CKGL',\n",
        "           'QGL',\n",
        "           'class']\n"
      ],
      "execution_count": 14,
      "outputs": []
    },
    {
      "cell_type": "code",
      "metadata": {
        "id": "Zu27syLhqaT-"
      },
      "source": [
        "def class_and_file_generator(data_path, real=False, simulated=False, drawn=False):\n",
        "    for class_path in data_path.iterdir():\n",
        "        if class_path.is_dir():\n",
        "            class_code = int(class_path.stem)\n",
        "            for instance_path in class_path.iterdir():\n",
        "                if (instance_path.suffix == '.csv'):\n",
        "                    if (simulated and instance_path.stem.startswith('SIMULATED')) or \\\n",
        "                       (drawn and instance_path.stem.startswith('DRAWN')) or \\\n",
        "                       (real and (not instance_path.stem.startswith('SIMULATED')) and \\\n",
        "                       (not instance_path.stem.startswith('DRAWN'))):\n",
        "                        yield class_code, instance_path"
      ],
      "execution_count": 16,
      "outputs": []
    },
    {
      "cell_type": "markdown",
      "source": [
        "# Creating instances with paths to csv files"
      ],
      "metadata": {
        "id": "5dMKpFRBjh09"
      }
    },
    {
      "cell_type": "code",
      "metadata": {
        "id": "9Ytaotc8qfES"
      },
      "source": [
        "instances = list(class_and_file_generator(data_path, real=True, simulated=True, drawn=False))\n",
        "real_instances = list(class_and_file_generator(data_path, real=True, simulated=False, drawn=False))\n",
        "simulated_instances = list(class_and_file_generator(data_path, real=False, simulated=True, drawn=False))\n"
      ],
      "execution_count": 6,
      "outputs": []
    },
    {
      "cell_type": "code",
      "metadata": {
        "id": "cjCG1rHhqjhX",
        "colab": {
          "base_uri": "https://localhost:8080/",
          "height": 394
        },
        "outputId": "211718ad-ce46-40d1-84ca-f53246d6db44"
      },
      "source": [
        "instances_class = [{'TYPE OF EVENT': str(c) + ' - ' + events_names[c], 'SOURCE': 'REAL'} for c, p in real_instances] + \\\n",
        "                  [{'TYPE OF EVENT': str(c) + ' - ' + events_names[c], 'SOURCE': 'SIMULATED'} for c, p in simulated_instances] \n",
        "df_class = pd.DataFrame(instances_class)\n",
        "df_class_count = df_class.groupby(['TYPE OF EVENT', 'SOURCE']).size().reset_index().pivot('SOURCE', 'TYPE OF EVENT', 0).fillna(0).astype(int).T\n",
        "df_class_count = df_class_count.loc[natsorted(df_class_count.index.values)]\n",
        "df_class_count = df_class_count[['REAL', 'SIMULATED']]\n",
        "df_class_count['TOTAL'] = df_class_count.sum(axis=1)\n",
        "df_class_count.loc['TOTAL'] = df_class_count.sum(axis=0)\n",
        "df_class_count\n"
      ],
      "execution_count": 7,
      "outputs": [
        {
          "output_type": "execute_result",
          "data": {
            "text/html": [
              "<div>\n",
              "<style scoped>\n",
              "    .dataframe tbody tr th:only-of-type {\n",
              "        vertical-align: middle;\n",
              "    }\n",
              "\n",
              "    .dataframe tbody tr th {\n",
              "        vertical-align: top;\n",
              "    }\n",
              "\n",
              "    .dataframe thead th {\n",
              "        text-align: right;\n",
              "    }\n",
              "</style>\n",
              "<table border=\"1\" class=\"dataframe\">\n",
              "  <thead>\n",
              "    <tr style=\"text-align: right;\">\n",
              "      <th>SOURCE</th>\n",
              "      <th>REAL</th>\n",
              "      <th>SIMULATED</th>\n",
              "      <th>TOTAL</th>\n",
              "    </tr>\n",
              "    <tr>\n",
              "      <th>TYPE OF EVENT</th>\n",
              "      <th></th>\n",
              "      <th></th>\n",
              "      <th></th>\n",
              "    </tr>\n",
              "  </thead>\n",
              "  <tbody>\n",
              "    <tr>\n",
              "      <th>0 - Normal</th>\n",
              "      <td>597</td>\n",
              "      <td>0</td>\n",
              "      <td>597</td>\n",
              "    </tr>\n",
              "    <tr>\n",
              "      <th>1 - Abrupt Increase of BSW</th>\n",
              "      <td>5</td>\n",
              "      <td>114</td>\n",
              "      <td>119</td>\n",
              "    </tr>\n",
              "    <tr>\n",
              "      <th>2 - Spurious Closure of DHSV</th>\n",
              "      <td>22</td>\n",
              "      <td>16</td>\n",
              "      <td>38</td>\n",
              "    </tr>\n",
              "    <tr>\n",
              "      <th>3 - Severe Slugging</th>\n",
              "      <td>32</td>\n",
              "      <td>74</td>\n",
              "      <td>106</td>\n",
              "    </tr>\n",
              "    <tr>\n",
              "      <th>4 - Flow Instability</th>\n",
              "      <td>344</td>\n",
              "      <td>0</td>\n",
              "      <td>344</td>\n",
              "    </tr>\n",
              "    <tr>\n",
              "      <th>5 - Rapid Productivity Loss</th>\n",
              "      <td>12</td>\n",
              "      <td>439</td>\n",
              "      <td>451</td>\n",
              "    </tr>\n",
              "    <tr>\n",
              "      <th>6 - Quick Restriction in PCK</th>\n",
              "      <td>6</td>\n",
              "      <td>215</td>\n",
              "      <td>221</td>\n",
              "    </tr>\n",
              "    <tr>\n",
              "      <th>7 - Scaling in PCK</th>\n",
              "      <td>4</td>\n",
              "      <td>0</td>\n",
              "      <td>4</td>\n",
              "    </tr>\n",
              "    <tr>\n",
              "      <th>8 - Hydrate in Production Line</th>\n",
              "      <td>3</td>\n",
              "      <td>81</td>\n",
              "      <td>84</td>\n",
              "    </tr>\n",
              "    <tr>\n",
              "      <th>TOTAL</th>\n",
              "      <td>1025</td>\n",
              "      <td>939</td>\n",
              "      <td>1964</td>\n",
              "    </tr>\n",
              "  </tbody>\n",
              "</table>\n",
              "</div>"
            ],
            "text/plain": [
              "SOURCE                          REAL  SIMULATED  TOTAL\n",
              "TYPE OF EVENT                                         \n",
              "0 - Normal                       597          0    597\n",
              "1 - Abrupt Increase of BSW         5        114    119\n",
              "2 - Spurious Closure of DHSV      22         16     38\n",
              "3 - Severe Slugging               32         74    106\n",
              "4 - Flow Instability             344          0    344\n",
              "5 - Rapid Productivity Loss       12        439    451\n",
              "6 - Quick Restriction in PCK       6        215    221\n",
              "7 - Scaling in PCK                 4          0      4\n",
              "8 - Hydrate in Production Line     3         81     84\n",
              "TOTAL                           1025        939   1964"
            ]
          },
          "metadata": {},
          "execution_count": 7
        }
      ]
    },
    {
      "cell_type": "markdown",
      "source": [
        "# **Downsampling instances**\n",
        "\n",
        "Paper said to downsample to 10 seconds but extraction was too long so I decided to downsample to 100 seconds.\n",
        "\n",
        "The simulated events do not include the P-CKGL and TCKGL\n",
        "sensor data, hence these features are removed from\n",
        "the real well data.\n",
        "\n",
        "On dataframe column class is added, it matches map where I found csv file."
      ],
      "metadata": {
        "id": "5t1PkgMntP1E"
      }
    },
    {
      "cell_type": "code",
      "metadata": {
        "id": "YEan8wZ2nAif",
        "colab": {
          "base_uri": "https://localhost:8080/",
          "height": 738
        },
        "outputId": "0c866e19-9ffb-4d41-8b2d-9d1e85a21764"
      },
      "source": [
        "\n",
        "for i in instances:\n",
        "  name=str(i[1])\n",
        "  c=name.split(\"/\")\n",
        "  name_new=name.replace(\"data\",\"data_new\")\n",
        "  df = pd.read_csv(i[1]) \n",
        "  df['timestamp'] = pd.to_datetime(df['timestamp'])\n",
        "\n",
        "  df_new = df.resample('100S', on='timestamp').mean()\n",
        "  df_new = df_new.drop(['P-JUS-CKGL', 'T-JUS-CKGL', 'class'], axis=1)\n",
        "  df_new=tsfresh.utilities.dataframe_functions.impute(df_new)\n",
        "  df_new[\"class\"]=c[3]\n",
        "  df_new.to_csv(name_new,encoding='utf-8',)\n",
        "\n",
        "\n",
        "\n",
        "\n"
      ],
      "execution_count": 14,
      "outputs": [
        {
          "output_type": "stream",
          "name": "stderr",
          "text": [
            "/usr/local/lib/python3.7/dist-packages/tsfresh/utilities/dataframe_functions.py:172: RuntimeWarning: The columns ['T-JUS-CKP' 'QGL'] did not have any finite values. Filling with zeros.\n",
            "  df.iloc[:, np.where(is_col_non_finite)[0]].columns.values), RuntimeWarning)\n",
            "/usr/local/lib/python3.7/dist-packages/tsfresh/utilities/dataframe_functions.py:172: RuntimeWarning: The columns ['QGL'] did not have any finite values. Filling with zeros.\n",
            "  df.iloc[:, np.where(is_col_non_finite)[0]].columns.values), RuntimeWarning)\n",
            "/usr/local/lib/python3.7/dist-packages/tsfresh/utilities/dataframe_functions.py:172: RuntimeWarning: The columns ['P-MON-CKP' 'T-JUS-CKP' 'QGL'] did not have any finite values. Filling with zeros.\n",
            "  df.iloc[:, np.where(is_col_non_finite)[0]].columns.values), RuntimeWarning)\n"
          ]
        },
        {
          "output_type": "error",
          "ename": "KeyboardInterrupt",
          "evalue": "ignored",
          "traceback": [
            "\u001b[0;31m---------------------------------------------------------------------------\u001b[0m",
            "\u001b[0;31mKeyboardInterrupt\u001b[0m                         Traceback (most recent call last)",
            "\u001b[0;32m<ipython-input-14-8650770a146e>\u001b[0m in \u001b[0;36m<module>\u001b[0;34m()\u001b[0m\n\u001b[1;32m      4\u001b[0m   \u001b[0mc\u001b[0m\u001b[0;34m=\u001b[0m\u001b[0mname\u001b[0m\u001b[0;34m.\u001b[0m\u001b[0msplit\u001b[0m\u001b[0;34m(\u001b[0m\u001b[0;34m\"/\"\u001b[0m\u001b[0;34m)\u001b[0m\u001b[0;34m\u001b[0m\u001b[0;34m\u001b[0m\u001b[0m\n\u001b[1;32m      5\u001b[0m   \u001b[0mname_new\u001b[0m\u001b[0;34m=\u001b[0m\u001b[0mname\u001b[0m\u001b[0;34m.\u001b[0m\u001b[0mreplace\u001b[0m\u001b[0;34m(\u001b[0m\u001b[0;34m\"data\"\u001b[0m\u001b[0;34m,\u001b[0m\u001b[0;34m\"data_new\"\u001b[0m\u001b[0;34m)\u001b[0m\u001b[0;34m\u001b[0m\u001b[0;34m\u001b[0m\u001b[0m\n\u001b[0;32m----> 6\u001b[0;31m   \u001b[0mdf\u001b[0m \u001b[0;34m=\u001b[0m \u001b[0mpd\u001b[0m\u001b[0;34m.\u001b[0m\u001b[0mread_csv\u001b[0m\u001b[0;34m(\u001b[0m\u001b[0mi\u001b[0m\u001b[0;34m[\u001b[0m\u001b[0;36m1\u001b[0m\u001b[0;34m]\u001b[0m\u001b[0;34m)\u001b[0m\u001b[0;34m\u001b[0m\u001b[0;34m\u001b[0m\u001b[0m\n\u001b[0m\u001b[1;32m      7\u001b[0m   \u001b[0mdf\u001b[0m\u001b[0;34m[\u001b[0m\u001b[0;34m'timestamp'\u001b[0m\u001b[0;34m]\u001b[0m \u001b[0;34m=\u001b[0m \u001b[0mpd\u001b[0m\u001b[0;34m.\u001b[0m\u001b[0mto_datetime\u001b[0m\u001b[0;34m(\u001b[0m\u001b[0mdf\u001b[0m\u001b[0;34m[\u001b[0m\u001b[0;34m'timestamp'\u001b[0m\u001b[0;34m]\u001b[0m\u001b[0;34m)\u001b[0m\u001b[0;34m\u001b[0m\u001b[0;34m\u001b[0m\u001b[0m\n\u001b[1;32m      8\u001b[0m \u001b[0;34m\u001b[0m\u001b[0m\n",
            "\u001b[0;32m/usr/local/lib/python3.7/dist-packages/pandas/io/parsers.py\u001b[0m in \u001b[0;36mread_csv\u001b[0;34m(filepath_or_buffer, sep, delimiter, header, names, index_col, usecols, squeeze, prefix, mangle_dupe_cols, dtype, engine, converters, true_values, false_values, skipinitialspace, skiprows, skipfooter, nrows, na_values, keep_default_na, na_filter, verbose, skip_blank_lines, parse_dates, infer_datetime_format, keep_date_col, date_parser, dayfirst, cache_dates, iterator, chunksize, compression, thousands, decimal, lineterminator, quotechar, quoting, doublequote, escapechar, comment, encoding, dialect, error_bad_lines, warn_bad_lines, delim_whitespace, low_memory, memory_map, float_precision)\u001b[0m\n\u001b[1;32m    686\u001b[0m     )\n\u001b[1;32m    687\u001b[0m \u001b[0;34m\u001b[0m\u001b[0m\n\u001b[0;32m--> 688\u001b[0;31m     \u001b[0;32mreturn\u001b[0m \u001b[0m_read\u001b[0m\u001b[0;34m(\u001b[0m\u001b[0mfilepath_or_buffer\u001b[0m\u001b[0;34m,\u001b[0m \u001b[0mkwds\u001b[0m\u001b[0;34m)\u001b[0m\u001b[0;34m\u001b[0m\u001b[0;34m\u001b[0m\u001b[0m\n\u001b[0m\u001b[1;32m    689\u001b[0m \u001b[0;34m\u001b[0m\u001b[0m\n\u001b[1;32m    690\u001b[0m \u001b[0;34m\u001b[0m\u001b[0m\n",
            "\u001b[0;32m/usr/local/lib/python3.7/dist-packages/pandas/io/parsers.py\u001b[0m in \u001b[0;36m_read\u001b[0;34m(filepath_or_buffer, kwds)\u001b[0m\n\u001b[1;32m    458\u001b[0m \u001b[0;34m\u001b[0m\u001b[0m\n\u001b[1;32m    459\u001b[0m     \u001b[0;32mtry\u001b[0m\u001b[0;34m:\u001b[0m\u001b[0;34m\u001b[0m\u001b[0;34m\u001b[0m\u001b[0m\n\u001b[0;32m--> 460\u001b[0;31m         \u001b[0mdata\u001b[0m \u001b[0;34m=\u001b[0m \u001b[0mparser\u001b[0m\u001b[0;34m.\u001b[0m\u001b[0mread\u001b[0m\u001b[0;34m(\u001b[0m\u001b[0mnrows\u001b[0m\u001b[0;34m)\u001b[0m\u001b[0;34m\u001b[0m\u001b[0;34m\u001b[0m\u001b[0m\n\u001b[0m\u001b[1;32m    461\u001b[0m     \u001b[0;32mfinally\u001b[0m\u001b[0;34m:\u001b[0m\u001b[0;34m\u001b[0m\u001b[0;34m\u001b[0m\u001b[0m\n\u001b[1;32m    462\u001b[0m         \u001b[0mparser\u001b[0m\u001b[0;34m.\u001b[0m\u001b[0mclose\u001b[0m\u001b[0;34m(\u001b[0m\u001b[0;34m)\u001b[0m\u001b[0;34m\u001b[0m\u001b[0;34m\u001b[0m\u001b[0m\n",
            "\u001b[0;32m/usr/local/lib/python3.7/dist-packages/pandas/io/parsers.py\u001b[0m in \u001b[0;36mread\u001b[0;34m(self, nrows)\u001b[0m\n\u001b[1;32m   1196\u001b[0m     \u001b[0;32mdef\u001b[0m \u001b[0mread\u001b[0m\u001b[0;34m(\u001b[0m\u001b[0mself\u001b[0m\u001b[0;34m,\u001b[0m \u001b[0mnrows\u001b[0m\u001b[0;34m=\u001b[0m\u001b[0;32mNone\u001b[0m\u001b[0;34m)\u001b[0m\u001b[0;34m:\u001b[0m\u001b[0;34m\u001b[0m\u001b[0;34m\u001b[0m\u001b[0m\n\u001b[1;32m   1197\u001b[0m         \u001b[0mnrows\u001b[0m \u001b[0;34m=\u001b[0m \u001b[0m_validate_integer\u001b[0m\u001b[0;34m(\u001b[0m\u001b[0;34m\"nrows\"\u001b[0m\u001b[0;34m,\u001b[0m \u001b[0mnrows\u001b[0m\u001b[0;34m)\u001b[0m\u001b[0;34m\u001b[0m\u001b[0;34m\u001b[0m\u001b[0m\n\u001b[0;32m-> 1198\u001b[0;31m         \u001b[0mret\u001b[0m \u001b[0;34m=\u001b[0m \u001b[0mself\u001b[0m\u001b[0;34m.\u001b[0m\u001b[0m_engine\u001b[0m\u001b[0;34m.\u001b[0m\u001b[0mread\u001b[0m\u001b[0;34m(\u001b[0m\u001b[0mnrows\u001b[0m\u001b[0;34m)\u001b[0m\u001b[0;34m\u001b[0m\u001b[0;34m\u001b[0m\u001b[0m\n\u001b[0m\u001b[1;32m   1199\u001b[0m \u001b[0;34m\u001b[0m\u001b[0m\n\u001b[1;32m   1200\u001b[0m         \u001b[0;31m# May alter columns / col_dict\u001b[0m\u001b[0;34m\u001b[0m\u001b[0;34m\u001b[0m\u001b[0;34m\u001b[0m\u001b[0m\n",
            "\u001b[0;32m/usr/local/lib/python3.7/dist-packages/pandas/io/parsers.py\u001b[0m in \u001b[0;36mread\u001b[0;34m(self, nrows)\u001b[0m\n\u001b[1;32m   2155\u001b[0m     \u001b[0;32mdef\u001b[0m \u001b[0mread\u001b[0m\u001b[0;34m(\u001b[0m\u001b[0mself\u001b[0m\u001b[0;34m,\u001b[0m \u001b[0mnrows\u001b[0m\u001b[0;34m=\u001b[0m\u001b[0;32mNone\u001b[0m\u001b[0;34m)\u001b[0m\u001b[0;34m:\u001b[0m\u001b[0;34m\u001b[0m\u001b[0;34m\u001b[0m\u001b[0m\n\u001b[1;32m   2156\u001b[0m         \u001b[0;32mtry\u001b[0m\u001b[0;34m:\u001b[0m\u001b[0;34m\u001b[0m\u001b[0;34m\u001b[0m\u001b[0m\n\u001b[0;32m-> 2157\u001b[0;31m             \u001b[0mdata\u001b[0m \u001b[0;34m=\u001b[0m \u001b[0mself\u001b[0m\u001b[0;34m.\u001b[0m\u001b[0m_reader\u001b[0m\u001b[0;34m.\u001b[0m\u001b[0mread\u001b[0m\u001b[0;34m(\u001b[0m\u001b[0mnrows\u001b[0m\u001b[0;34m)\u001b[0m\u001b[0;34m\u001b[0m\u001b[0;34m\u001b[0m\u001b[0m\n\u001b[0m\u001b[1;32m   2158\u001b[0m         \u001b[0;32mexcept\u001b[0m \u001b[0mStopIteration\u001b[0m\u001b[0;34m:\u001b[0m\u001b[0;34m\u001b[0m\u001b[0;34m\u001b[0m\u001b[0m\n\u001b[1;32m   2159\u001b[0m             \u001b[0;32mif\u001b[0m \u001b[0mself\u001b[0m\u001b[0;34m.\u001b[0m\u001b[0m_first_chunk\u001b[0m\u001b[0;34m:\u001b[0m\u001b[0;34m\u001b[0m\u001b[0;34m\u001b[0m\u001b[0m\n",
            "\u001b[0;32mpandas/_libs/parsers.pyx\u001b[0m in \u001b[0;36mpandas._libs.parsers.TextReader.read\u001b[0;34m()\u001b[0m\n",
            "\u001b[0;32mpandas/_libs/parsers.pyx\u001b[0m in \u001b[0;36mpandas._libs.parsers.TextReader._read_low_memory\u001b[0;34m()\u001b[0m\n",
            "\u001b[0;32mpandas/_libs/parsers.pyx\u001b[0m in \u001b[0;36mpandas._libs.parsers.TextReader._read_rows\u001b[0;34m()\u001b[0m\n",
            "\u001b[0;32mpandas/_libs/parsers.pyx\u001b[0m in \u001b[0;36mpandas._libs.parsers.TextReader._convert_column_data\u001b[0;34m()\u001b[0m\n",
            "\u001b[0;32mpandas/_libs/parsers.pyx\u001b[0m in \u001b[0;36mpandas._libs.parsers.TextReader._convert_tokens\u001b[0;34m()\u001b[0m\n",
            "\u001b[0;32mpandas/_libs/parsers.pyx\u001b[0m in \u001b[0;36mpandas._libs.parsers.TextReader._convert_with_dtype\u001b[0;34m()\u001b[0m\n",
            "\u001b[0;32m/usr/local/lib/python3.7/dist-packages/pandas/core/dtypes/common.py\u001b[0m in \u001b[0;36mis_categorical_dtype\u001b[0;34m(arr_or_dtype)\u001b[0m\n\u001b[1;32m    528\u001b[0m \u001b[0;34m\u001b[0m\u001b[0m\n\u001b[1;32m    529\u001b[0m \u001b[0;34m\u001b[0m\u001b[0m\n\u001b[0;32m--> 530\u001b[0;31m \u001b[0;32mdef\u001b[0m \u001b[0mis_categorical_dtype\u001b[0m\u001b[0;34m(\u001b[0m\u001b[0marr_or_dtype\u001b[0m\u001b[0;34m)\u001b[0m \u001b[0;34m->\u001b[0m \u001b[0mbool\u001b[0m\u001b[0;34m:\u001b[0m\u001b[0;34m\u001b[0m\u001b[0;34m\u001b[0m\u001b[0m\n\u001b[0m\u001b[1;32m    531\u001b[0m     \"\"\"\n\u001b[1;32m    532\u001b[0m     \u001b[0mCheck\u001b[0m \u001b[0mwhether\u001b[0m \u001b[0man\u001b[0m \u001b[0marray\u001b[0m\u001b[0;34m-\u001b[0m\u001b[0mlike\u001b[0m \u001b[0;32mor\u001b[0m \u001b[0mdtype\u001b[0m \u001b[0;32mis\u001b[0m \u001b[0mof\u001b[0m \u001b[0mthe\u001b[0m \u001b[0mCategorical\u001b[0m \u001b[0mdtype\u001b[0m\u001b[0;34m.\u001b[0m\u001b[0;34m\u001b[0m\u001b[0;34m\u001b[0m\u001b[0m\n",
            "\u001b[0;31mKeyboardInterrupt\u001b[0m: "
          ]
        }
      ]
    },
    {
      "cell_type": "markdown",
      "source": [
        "Downsampled data I chose to save on my google drive in map data_new in same way data was saved (with subfolders 0,1,2,3,4,5,6,7,8, depending on which class they belong to)."
      ],
      "metadata": {
        "id": "HbhMNP6Gknze"
      }
    },
    {
      "cell_type": "code",
      "source": [
        "data_path_new = Path('gdrive/MyDrive/', 'data_new')\n",
        "instances_new = list(class_and_file_generator(data_path_new, real=True, simulated=True, drawn=False))"
      ],
      "metadata": {
        "id": "rnh9EKUokbnX"
      },
      "execution_count": 17,
      "outputs": []
    },
    {
      "cell_type": "markdown",
      "source": [
        "# **Finding features from dataframe**\n",
        "\n",
        "The TSFRESH\n",
        "package is used for parallelized feature engineering as\n",
        "it 1) contains a library of common features, while allowing\n",
        "custom feature specification and 2) integrates well with scikitlearn.\n",
        "The following features are calculated (for each window):\n",
        "\n",
        "\n",
        "* The first to fourth moments (mean, variance, skewness,\n",
        "kurtosis) of the time series and the absolute Fourier\n",
        "transform of it\n",
        "*   Miscellaneous features describing the distribution of the\n",
        "data and how it changes: maximum, minimum, median,\n",
        "quantiles, coefficient of variation, mean change, average\n",
        "second derivative\n",
        "*The coefficients of a linear and third degree polynomial\n",
        "model. The linear model is fitted directly to the data,\n",
        "while the polynomial is fitted as part\n",
        "\n",
        "fc_params dictionary containes all wanted features."
      ],
      "metadata": {
        "id": "m8isLRYKltUm"
      }
    },
    {
      "cell_type": "code",
      "source": [
        "\n",
        "fc_params = { \n",
        "    'mean': None,\n",
        "    'variance': None,\n",
        "    'skewness': None,\n",
        "    'kurtosis': None,\n",
        "    'fft_aggregated': [{'aggtype': 'centroid'},\n",
        "  {'aggtype': 'variance'},\n",
        "  {'aggtype': 'skew'},\n",
        "  {'aggtype': 'kurtosis'}],\n",
        "    'maximum': None,\n",
        "    'minimum': None,\n",
        "    'median': None,\n",
        "    'quantile': [{'q': 0.1},\n",
        "  {'q': 0.2},\n",
        "  {'q': 0.3},\n",
        "  {'q': 0.4},\n",
        "  {'q': 0.6},\n",
        "  {'q': 0.7},\n",
        "  {'q': 0.8},\n",
        "  {'q': 0.9}],\n",
        "  'variation_coefficient': None,\n",
        "  'mean_change': None,\n",
        "'mean_second_derivative_central': None,\n",
        "\n",
        "    'friedrich_coefficients': [\n",
        "    {'coeff': 1, 'm': 3, 'r': 30},\n",
        "    {'coeff': 3, 'm': 3, 'r': 30}],\n",
        "}\n"
      ],
      "metadata": {
        "id": "wCRm1SSfn0q-"
      },
      "execution_count": 18,
      "outputs": []
    },
    {
      "cell_type": "markdown",
      "source": [
        "# **Time windows subdivision**\n",
        "\n",
        "### Windows are 300, 600 and 900 seconds.\n",
        "The time series is subdivided into\n",
        "windows, and in each window various features of arbitrary\n",
        "complexity are calculated to describe dynamics within the\n",
        "window. This division into time windows and feature calculations\n",
        "reduce the problem to a supervised classification\n",
        "problem. The choice of time window size is an important\n",
        "hyperparameter as it controls the size of the new dataset and\n",
        "the amount of information in the features."
      ],
      "metadata": {
        "id": "ZyDjLFgdmatd"
      }
    },
    {
      "cell_type": "code",
      "source": [
        "size = 30\n",
        "br=1\n",
        "l=0\n",
        "lista_klasa=[]\n",
        "for i in instances_new:\n",
        "  df= pd.read_csv(i[1])\n",
        "  val = df['class'].values[0] \n",
        "  cut=len(df)%size\n",
        "  df= df.iloc[:-cut]\n",
        "  list_of_dfs = [df.loc[i:i+size-1,:] for i in range(0, len(df),size)]\n",
        "  for dataf in list_of_dfs:\n",
        "    dataf[\"id_features\"]=br\n",
        "    br+=1\n",
        "  l+=len(list_of_dfs)\n",
        "  if(len(list_of_dfs)!=0):\n",
        "    data = pd.concat(list_of_dfs)\n",
        "    lista_klasa.append(data)\n",
        "\n"
      ],
      "metadata": {
        "id": "kYLWnqlVy5wZ",
        "colab": {
          "base_uri": "https://localhost:8080/"
        },
        "outputId": "0b3e2b86-3d5b-411c-8ae1-d60d872db249"
      },
      "execution_count": 23,
      "outputs": [
        {
          "output_type": "stream",
          "name": "stderr",
          "text": [
            "/usr/local/lib/python3.7/dist-packages/ipykernel_launcher.py:12: SettingWithCopyWarning: \n",
            "A value is trying to be set on a copy of a slice from a DataFrame.\n",
            "Try using .loc[row_indexer,col_indexer] = value instead\n",
            "\n",
            "See the caveats in the documentation: https://pandas.pydata.org/pandas-docs/stable/user_guide/indexing.html#returning-a-view-versus-a-copy\n",
            "  if sys.path[0] == '':\n"
          ]
        }
      ]
    },
    {
      "cell_type": "markdown",
      "source": [
        "Feature extraction can't have class column but we need to save it for training and testing model. Saving code chunk is presented below.\n",
        "\n",
        "### Feature extraction for 300 s window:"
      ],
      "metadata": {
        "id": "ScLwIcfTnKxt"
      }
    },
    {
      "cell_type": "code",
      "source": [
        "data = pd.concat(lista_klasa)\n",
        "s30=data['class'].value_counts()\n",
        "s30=list(s30.items())\n",
        "s30"
      ],
      "metadata": {
        "id": "g6aCKcAHLEoE"
      },
      "execution_count": null,
      "outputs": []
    },
    {
      "cell_type": "code",
      "source": [
        "d=data\n",
        "data1 = d.drop(['class'], axis=1)\n",
        "data2=tsfresh.extract_features(data1, default_fc_parameters=fc_params, column_id=\"id_features\",column_sort=\"timestamp\", column_kind=None, column_value=None)\n",
        "data2\n"
      ],
      "metadata": {
        "id": "8FEPTfHoi1g3"
      },
      "execution_count": null,
      "outputs": []
    },
    {
      "cell_type": "markdown",
      "source": [
        "Since extraction takes a lot of time, easiest way is to save results to google drive to use it again."
      ],
      "metadata": {
        "id": "y_OPoJUMnzXw"
      }
    },
    {
      "cell_type": "code",
      "source": [
        "data2.to_csv('gdrive/MyDrive/data30.csv',encoding='utf-8',)\n"
      ],
      "metadata": {
        "id": "l1fRHiRai3GX"
      },
      "execution_count": null,
      "outputs": []
    },
    {
      "cell_type": "markdown",
      "source": [
        "### Feature extraction for 600 s window:"
      ],
      "metadata": {
        "id": "EnQaKLjgoAlO"
      }
    },
    {
      "cell_type": "code",
      "source": [
        "size = 60\n",
        "br=1\n",
        "l=0\n",
        "lista_klasa=[]\n",
        "for i in instances_new:\n",
        "  df= pd.read_csv(i[1])\n",
        "  val = df['class'].values[0] \n",
        "  cut=len(df)%size\n",
        "  df= df.iloc[:-cut]\n",
        "  list_of_dfs = [df.loc[i:i+size-1,:] for i in range(0, len(df),size)]\n",
        "  for dataf in list_of_dfs:\n",
        "    dataf[\"id_features\"]=br\n",
        "    br+=1\n",
        "  l+=len(list_of_dfs)\n",
        "  if(len(list_of_dfs)!=0):\n",
        "    data = pd.concat(list_of_dfs)\n",
        "    lista_klasa.append(data)"
      ],
      "metadata": {
        "id": "b-xRmvBYo0mc",
        "colab": {
          "base_uri": "https://localhost:8080/"
        },
        "outputId": "cb041c9d-b831-4273-a27e-0640ae9974a8"
      },
      "execution_count": 27,
      "outputs": [
        {
          "output_type": "stream",
          "name": "stderr",
          "text": [
            "/usr/local/lib/python3.7/dist-packages/ipykernel_launcher.py:12: SettingWithCopyWarning: \n",
            "A value is trying to be set on a copy of a slice from a DataFrame.\n",
            "Try using .loc[row_indexer,col_indexer] = value instead\n",
            "\n",
            "See the caveats in the documentation: https://pandas.pydata.org/pandas-docs/stable/user_guide/indexing.html#returning-a-view-versus-a-copy\n",
            "  if sys.path[0] == '':\n"
          ]
        }
      ]
    },
    {
      "cell_type": "code",
      "source": [
        "data60 = pd.concat(lista_klasa)\n",
        "data60\n"
      ],
      "metadata": {
        "id": "n3WSf8SXo4tG"
      },
      "execution_count": null,
      "outputs": []
    },
    {
      "cell_type": "code",
      "source": [
        "s60=data60['class'].value_counts()\n",
        "s60=list(s60.items())\n",
        "s60"
      ],
      "metadata": {
        "id": "EwvWACsA_bkg"
      },
      "execution_count": null,
      "outputs": []
    },
    {
      "cell_type": "code",
      "source": [
        "d=data60\n",
        " \n",
        "data1 = d.drop(['class'], axis=1)\n",
        "\n",
        "data3=tsfresh.extract_features(data1, default_fc_parameters=fc_params, column_id=\"id_features\",column_sort=\"timestamp\", column_kind=None, column_value=None)\n",
        "data3"
      ],
      "metadata": {
        "id": "fFVrVOogcw5Z"
      },
      "execution_count": null,
      "outputs": []
    },
    {
      "cell_type": "code",
      "source": [
        "data3.to_csv('gdrive/MyDrive/data60.csv',encoding='utf-8',)"
      ],
      "metadata": {
        "id": "EOWfuUEmjC_T"
      },
      "execution_count": null,
      "outputs": []
    },
    {
      "cell_type": "markdown",
      "source": [
        "### Feature extraction for 900 s window:"
      ],
      "metadata": {
        "id": "JflZ7g6xoFqJ"
      }
    },
    {
      "cell_type": "code",
      "source": [
        "size = 90\n",
        "br=1\n",
        "l=0\n",
        "lista_klasa=[]\n",
        "for i in instances_new:\n",
        "  df= pd.read_csv(i[1])\n",
        "  val = df['class'].values[0] \n",
        "  cut=len(df)%size\n",
        "  df= df.iloc[:-cut]\n",
        "  list_of_dfs = [df.loc[i:i+size-1,:] for i in range(0, len(df),size)]\n",
        "  for dataf in list_of_dfs:\n",
        "    dataf[\"id_features\"]=br\n",
        "    br+=1\n",
        "  l+=len(list_of_dfs)\n",
        "  if(len(list_of_dfs)!=0):\n",
        "    data = pd.concat(list_of_dfs)\n",
        "    lista_klasa.append(data)"
      ],
      "metadata": {
        "id": "KejiOyAuyx3z"
      },
      "execution_count": null,
      "outputs": []
    },
    {
      "cell_type": "code",
      "source": [
        "data90 = pd.concat(lista_klasa)\n",
        "data90"
      ],
      "metadata": {
        "id": "g_skHuoH0P4a"
      },
      "execution_count": null,
      "outputs": []
    },
    {
      "cell_type": "code",
      "source": [
        "s90=data90['class'].value_counts()\n",
        "s90=list(s90.items())\n",
        "s90"
      ],
      "metadata": {
        "id": "EwSQ_XVt_99W"
      },
      "execution_count": null,
      "outputs": []
    },
    {
      "cell_type": "code",
      "source": [
        "d=data90\n",
        " \n",
        "data1 = d.drop(['class'], axis=1)\n",
        "\n",
        "data4=tsfresh.extract_features(data1, default_fc_parameters=fc_params, column_id=\"id_features\",column_sort=\"timestamp\", column_kind=None, column_value=None)\n",
        "data4\n"
      ],
      "metadata": {
        "id": "KRwQ_bea0NvM"
      },
      "execution_count": null,
      "outputs": []
    },
    {
      "cell_type": "code",
      "source": [
        "data4.to_csv('gdrive/MyDrive/data90.csv',encoding='utf-8',)\n",
        "data4"
      ],
      "metadata": {
        "id": "iESI2xzh0aCd"
      },
      "execution_count": null,
      "outputs": []
    },
    {
      "cell_type": "markdown",
      "source": [
        "### Appending saved classes to new dataframes:"
      ],
      "metadata": {
        "id": "pZpTTyrioLEC"
      }
    },
    {
      "cell_type": "code",
      "source": [
        "y30=[]\n",
        "for y,x in s30:\n",
        "    y30.append((y,int(x/30)))\n",
        "y30.sort(key=lambda x:x[0])\n",
        "y30"
      ],
      "metadata": {
        "id": "_i2E3xOKAI_7"
      },
      "execution_count": null,
      "outputs": []
    },
    {
      "cell_type": "code",
      "source": [
        "y60=[]\n",
        "for y,x in s60:\n",
        "    y60.append((y,int(x/60)))\n",
        "y60.sort(key=lambda x:x[0])\n",
        "y60"
      ],
      "metadata": {
        "id": "63skf8NgEJuj"
      },
      "execution_count": null,
      "outputs": []
    },
    {
      "cell_type": "code",
      "source": [
        "y90=[]\n",
        "for y,x in s90:\n",
        "    y90.append((y,int(x/90)))\n",
        "y90.sort(key=lambda x:x[0])\n",
        "y90"
      ],
      "metadata": {
        "id": "r-7W8PZjENfx"
      },
      "execution_count": null,
      "outputs": []
    },
    {
      "cell_type": "code",
      "source": [
        "data_30 = pd.read_csv('gdrive/MyDrive/data30.csv',index_col=0)\n",
        "data_30=tsfresh.utilities.dataframe_functions.impute(data_30)\n",
        "\n",
        "data_60 = pd.read_csv('gdrive/MyDrive/data60.csv',index_col=0)\n",
        "data_60=tsfresh.utilities.dataframe_functions.impute(data_60)\n",
        "\n",
        "data_90 = pd.read_csv('gdrive/MyDrive/data90.csv',index_col=0)\n",
        "data_90=tsfresh.utilities.dataframe_functions.impute(data_90)"
      ],
      "metadata": {
        "id": "Crtff_rkErKv"
      },
      "execution_count": 36,
      "outputs": []
    },
    {
      "cell_type": "code",
      "source": [
        "#feature selection\n",
        "from sklearn.feature_selection import VarianceThreshold\n",
        "def get_low_variance_columns(dframe=None, columns=None,skip_columns=None, thresh=0.0, autoremove=True):\n",
        "    try:\n",
        "        # get list of all the original df columns\n",
        "        all_columns = dframe.columns\n",
        "        skip_columns = dframe.filter(regex=\"variance\", axis=1)\n",
        "\n",
        "        # remove `skip_columns`\n",
        "        remaining_columns = all_columns.drop(skip_columns)\n",
        "\n",
        "        # get length of new index\n",
        "        max_index = len(remaining_columns) - 1\n",
        "\n",
        "        # get indices for `skip_columns`\n",
        "        skipped_idx = [all_columns.get_loc(column)\n",
        "                       for column\n",
        "                       in skip_columns]\n",
        "\n",
        "        # adjust insert location by the number of columns removed\n",
        "        # (for non-zero insertion locations) to keep relative\n",
        "        # locations intact\n",
        "        for idx, item in enumerate(skipped_idx):\n",
        "            if item > max_index:\n",
        "                diff = item - max_index\n",
        "                skipped_idx[idx] -= diff\n",
        "            if item == max_index:\n",
        "                diff = item - len(skip_columns)\n",
        "                skipped_idx[idx] -= diff\n",
        "            if idx == 0:\n",
        "                skipped_idx[idx] = item\n",
        "\n",
        "        # get values of `skip_columns`\n",
        "        skipped_values = dframe.iloc[:, skipped_idx].values\n",
        "\n",
        "        # get dataframe values\n",
        "        X = dframe.loc[:, remaining_columns].values\n",
        "\n",
        "        # instantiate VarianceThreshold object\n",
        "        vt = VarianceThreshold(threshold=thresh)\n",
        "\n",
        "        # fit vt to data\n",
        "        vt.fit(X)\n",
        "\n",
        "        # get the indices of the features that are being kept\n",
        "        feature_indices = vt.get_support(indices=True)\n",
        "\n",
        "        # remove low-variance columns from index\n",
        "        feature_names = [remaining_columns[idx]\n",
        "                         for idx, _\n",
        "                         in enumerate(remaining_columns)\n",
        "                         if idx\n",
        "                         in feature_indices]\n",
        "\n",
        "        # get the columns to be removed\n",
        "        removed_features = list(np.setdiff1d(remaining_columns,\n",
        "                                             feature_names))\n",
        "        \n",
        "        # remove the columns\n",
        "        if autoremove:\n",
        "            # remove the low-variance columns\n",
        "            X_removed = vt.transform(X)\n",
        "            \n",
        "            # re-assemble the dataframe\n",
        "            dframe = pd.DataFrame(data=X_removed,\n",
        "                                  columns=feature_names)\n",
        "\n",
        "            # add back the `skip_columns`\n",
        "            for idx, index in enumerate(skipped_idx):\n",
        "                dframe.insert(loc=index,\n",
        "                              column=skip_columns[idx],\n",
        "                              value=skipped_values[:, idx])\n",
        "        # do not remove columns\n",
        "        else:\n",
        "            print(\"No changes have been made to the dataframe.\")\n",
        "\n",
        "    except Exception as e:\n",
        "        print(e)\n",
        "        print(\"Could not remove low-variance features. Something \"\n",
        "              \"went wrong.\")\n",
        "        pass\n",
        "\n",
        "    return dframe"
      ],
      "metadata": {
        "id": "o5JVfhZSfk3h"
      },
      "execution_count": 45,
      "outputs": []
    },
    {
      "cell_type": "code",
      "source": [
        "#removing low variance features\n",
        "\n",
        "data_30_final=get_low_variance_columns(data_30)\n",
        "data_60_final=get_low_variance_columns(data_60)\n",
        "data_90_final=get_low_variance_columns(data_90)\n",
        "x_train90_final\n"
      ],
      "metadata": {
        "id": "V2zNA2qrhLDz"
      },
      "execution_count": null,
      "outputs": []
    },
    {
      "cell_type": "code",
      "source": [
        "def add_y_to_dataframe(y,df):\n",
        "  lista=[]\n",
        "\n",
        "  for i in y:\n",
        "\n",
        "    l=[i[0] for j in range(int(i[1]))]\n",
        "    lista.append(l)\n",
        "\n",
        "  lista=[item for sublist in lista for item in sublist]\n",
        "  df['class'] = lista\n",
        "  return df"
      ],
      "metadata": {
        "id": "KoiTCYv4KYAx"
      },
      "execution_count": 37,
      "outputs": []
    },
    {
      "cell_type": "code",
      "source": [
        "data_30_complete= add_y_to_dataframe(y30,data_30_final)\n",
        "data_60_complete= add_y_to_dataframe(y60,data_60_final)\n",
        "data_90_complete= add_y_to_dataframe(y90,data_90_final)\n",
        "data_90_complete"
      ],
      "metadata": {
        "id": "SLuluEfwP6w1",
        "colab": {
          "base_uri": "https://localhost:8080/",
          "height": 461
        },
        "outputId": "052f82a8-506e-41a0-8440-4881dc5b15a3"
      },
      "execution_count": 88,
      "outputs": [
        {
          "output_type": "execute_result",
          "data": {
            "text/html": [
              "<div>\n",
              "<style scoped>\n",
              "    .dataframe tbody tr th:only-of-type {\n",
              "        vertical-align: middle;\n",
              "    }\n",
              "\n",
              "    .dataframe tbody tr th {\n",
              "        vertical-align: top;\n",
              "    }\n",
              "\n",
              "    .dataframe thead th {\n",
              "        text-align: right;\n",
              "    }\n",
              "</style>\n",
              "<table border=\"1\" class=\"dataframe\">\n",
              "  <thead>\n",
              "    <tr style=\"text-align: right;\">\n",
              "      <th></th>\n",
              "      <th>P-PDG__mean</th>\n",
              "      <th>P-PDG__skewness</th>\n",
              "      <th>P-PDG__kurtosis</th>\n",
              "      <th>P-PDG__fft_aggregated__aggtype_\"centroid\"</th>\n",
              "      <th>P-PDG__fft_aggregated__aggtype_\"skew\"</th>\n",
              "      <th>P-PDG__fft_aggregated__aggtype_\"kurtosis\"</th>\n",
              "      <th>P-PDG__maximum</th>\n",
              "      <th>P-PDG__minimum</th>\n",
              "      <th>P-PDG__median</th>\n",
              "      <th>P-PDG__quantile__q_0.1</th>\n",
              "      <th>P-PDG__quantile__q_0.2</th>\n",
              "      <th>P-PDG__quantile__q_0.3</th>\n",
              "      <th>P-PDG__quantile__q_0.4</th>\n",
              "      <th>P-PDG__quantile__q_0.6</th>\n",
              "      <th>P-PDG__quantile__q_0.7</th>\n",
              "      <th>P-PDG__quantile__q_0.8</th>\n",
              "      <th>P-PDG__quantile__q_0.9</th>\n",
              "      <th>P-PDG__variation_coefficient</th>\n",
              "      <th>P-PDG__mean_change</th>\n",
              "      <th>P-PDG__mean_second_derivative_central</th>\n",
              "      <th>P-PDG__friedrich_coefficients__coeff_1__m_3__r_30</th>\n",
              "      <th>P-PDG__friedrich_coefficients__coeff_3__m_3__r_30</th>\n",
              "      <th>P-TPT__mean</th>\n",
              "      <th>P-TPT__skewness</th>\n",
              "      <th>P-TPT__kurtosis</th>\n",
              "      <th>P-TPT__fft_aggregated__aggtype_\"centroid\"</th>\n",
              "      <th>P-TPT__fft_aggregated__aggtype_\"skew\"</th>\n",
              "      <th>P-TPT__fft_aggregated__aggtype_\"kurtosis\"</th>\n",
              "      <th>P-TPT__maximum</th>\n",
              "      <th>P-TPT__minimum</th>\n",
              "      <th>P-TPT__median</th>\n",
              "      <th>P-TPT__quantile__q_0.1</th>\n",
              "      <th>P-TPT__quantile__q_0.2</th>\n",
              "      <th>P-TPT__quantile__q_0.3</th>\n",
              "      <th>P-TPT__quantile__q_0.4</th>\n",
              "      <th>P-TPT__quantile__q_0.6</th>\n",
              "      <th>P-TPT__quantile__q_0.7</th>\n",
              "      <th>P-TPT__quantile__q_0.8</th>\n",
              "      <th>P-TPT__quantile__q_0.9</th>\n",
              "      <th>P-TPT__variation_coefficient</th>\n",
              "      <th>...</th>\n",
              "      <th>T-JUS-CKP__fft_aggregated__aggtype_\"kurtosis\"</th>\n",
              "      <th>T-JUS-CKP__maximum</th>\n",
              "      <th>T-JUS-CKP__minimum</th>\n",
              "      <th>T-JUS-CKP__median</th>\n",
              "      <th>T-JUS-CKP__quantile__q_0.1</th>\n",
              "      <th>T-JUS-CKP__quantile__q_0.2</th>\n",
              "      <th>T-JUS-CKP__quantile__q_0.3</th>\n",
              "      <th>T-JUS-CKP__quantile__q_0.4</th>\n",
              "      <th>T-JUS-CKP__quantile__q_0.6</th>\n",
              "      <th>T-JUS-CKP__quantile__q_0.7</th>\n",
              "      <th>T-JUS-CKP__quantile__q_0.8</th>\n",
              "      <th>T-JUS-CKP__quantile__q_0.9</th>\n",
              "      <th>T-JUS-CKP__variation_coefficient</th>\n",
              "      <th>T-JUS-CKP__mean_change</th>\n",
              "      <th>T-JUS-CKP__mean_second_derivative_central</th>\n",
              "      <th>T-JUS-CKP__friedrich_coefficients__coeff_1__m_3__r_30</th>\n",
              "      <th>T-JUS-CKP__friedrich_coefficients__coeff_3__m_3__r_30</th>\n",
              "      <th>QGL__mean</th>\n",
              "      <th>QGL__skewness</th>\n",
              "      <th>QGL__kurtosis</th>\n",
              "      <th>QGL__fft_aggregated__aggtype_\"centroid\"</th>\n",
              "      <th>QGL__fft_aggregated__aggtype_\"skew\"</th>\n",
              "      <th>QGL__fft_aggregated__aggtype_\"kurtosis\"</th>\n",
              "      <th>QGL__maximum</th>\n",
              "      <th>QGL__minimum</th>\n",
              "      <th>QGL__median</th>\n",
              "      <th>QGL__quantile__q_0.1</th>\n",
              "      <th>QGL__quantile__q_0.2</th>\n",
              "      <th>QGL__quantile__q_0.3</th>\n",
              "      <th>QGL__quantile__q_0.4</th>\n",
              "      <th>QGL__quantile__q_0.6</th>\n",
              "      <th>QGL__quantile__q_0.7</th>\n",
              "      <th>QGL__quantile__q_0.8</th>\n",
              "      <th>QGL__quantile__q_0.9</th>\n",
              "      <th>QGL__variation_coefficient</th>\n",
              "      <th>QGL__mean_change</th>\n",
              "      <th>QGL__mean_second_derivative_central</th>\n",
              "      <th>QGL__friedrich_coefficients__coeff_1__m_3__r_30</th>\n",
              "      <th>QGL__friedrich_coefficients__coeff_3__m_3__r_30</th>\n",
              "      <th>class</th>\n",
              "    </tr>\n",
              "  </thead>\n",
              "  <tbody>\n",
              "    <tr>\n",
              "      <th>0</th>\n",
              "      <td>0.0</td>\n",
              "      <td>0.0</td>\n",
              "      <td>0.0</td>\n",
              "      <td>0.059546</td>\n",
              "      <td>9.122214</td>\n",
              "      <td>97.000191</td>\n",
              "      <td>0.0</td>\n",
              "      <td>0.0</td>\n",
              "      <td>0.0</td>\n",
              "      <td>0.0</td>\n",
              "      <td>0.0</td>\n",
              "      <td>0.0</td>\n",
              "      <td>0.0</td>\n",
              "      <td>0.0</td>\n",
              "      <td>0.0</td>\n",
              "      <td>0.0</td>\n",
              "      <td>0.0</td>\n",
              "      <td>0.002023</td>\n",
              "      <td>0.0</td>\n",
              "      <td>0.0</td>\n",
              "      <td>2.219661e-07</td>\n",
              "      <td>5.077007e+07</td>\n",
              "      <td>8.047289e+06</td>\n",
              "      <td>1.569728</td>\n",
              "      <td>1.791741</td>\n",
              "      <td>0.209430</td>\n",
              "      <td>13.921445</td>\n",
              "      <td>217.569699</td>\n",
              "      <td>8254891.52</td>\n",
              "      <td>7981643.94</td>\n",
              "      <td>8019729.000</td>\n",
              "      <td>7995530.267</td>\n",
              "      <td>7.999780e+06</td>\n",
              "      <td>8003281.695</td>\n",
              "      <td>8014381.548</td>\n",
              "      <td>8025538.688</td>\n",
              "      <td>8052564.239</td>\n",
              "      <td>8094140.560</td>\n",
              "      <td>8144027.823</td>\n",
              "      <td>0.008272</td>\n",
              "      <td>...</td>\n",
              "      <td>137.432364</td>\n",
              "      <td>72.878464</td>\n",
              "      <td>71.479743</td>\n",
              "      <td>72.181487</td>\n",
              "      <td>71.842443</td>\n",
              "      <td>71.923001</td>\n",
              "      <td>71.995637</td>\n",
              "      <td>72.066213</td>\n",
              "      <td>72.263042</td>\n",
              "      <td>72.307883</td>\n",
              "      <td>72.389287</td>\n",
              "      <td>72.493241</td>\n",
              "      <td>0.003751</td>\n",
              "      <td>-0.006489</td>\n",
              "      <td>0.003782</td>\n",
              "      <td>56.723567</td>\n",
              "      <td>99490.969581</td>\n",
              "      <td>0.000000</td>\n",
              "      <td>0.000000</td>\n",
              "      <td>0.000000</td>\n",
              "      <td>5.358397</td>\n",
              "      <td>2.203276</td>\n",
              "      <td>8.369657</td>\n",
              "      <td>0.000000</td>\n",
              "      <td>0.000000e+00</td>\n",
              "      <td>0.000000e+00</td>\n",
              "      <td>0.000000e+00</td>\n",
              "      <td>0.000000e+00</td>\n",
              "      <td>0.000000e+00</td>\n",
              "      <td>0.000000e+00</td>\n",
              "      <td>0.000000e+00</td>\n",
              "      <td>0.000000e+00</td>\n",
              "      <td>0.000000</td>\n",
              "      <td>0.000000</td>\n",
              "      <td>0.162008</td>\n",
              "      <td>0.000000e+00</td>\n",
              "      <td>0.000000e+00</td>\n",
              "      <td>1.184812</td>\n",
              "      <td>0.931431</td>\n",
              "      <td>0</td>\n",
              "    </tr>\n",
              "    <tr>\n",
              "      <th>1</th>\n",
              "      <td>0.0</td>\n",
              "      <td>0.0</td>\n",
              "      <td>0.0</td>\n",
              "      <td>0.059546</td>\n",
              "      <td>9.122214</td>\n",
              "      <td>97.000191</td>\n",
              "      <td>0.0</td>\n",
              "      <td>0.0</td>\n",
              "      <td>0.0</td>\n",
              "      <td>0.0</td>\n",
              "      <td>0.0</td>\n",
              "      <td>0.0</td>\n",
              "      <td>0.0</td>\n",
              "      <td>0.0</td>\n",
              "      <td>0.0</td>\n",
              "      <td>0.0</td>\n",
              "      <td>0.0</td>\n",
              "      <td>0.002023</td>\n",
              "      <td>0.0</td>\n",
              "      <td>0.0</td>\n",
              "      <td>2.219661e-07</td>\n",
              "      <td>5.077007e+07</td>\n",
              "      <td>8.462376e+06</td>\n",
              "      <td>-0.751345</td>\n",
              "      <td>-1.021325</td>\n",
              "      <td>0.365946</td>\n",
              "      <td>10.549927</td>\n",
              "      <td>125.736824</td>\n",
              "      <td>8655868.54</td>\n",
              "      <td>8121397.73</td>\n",
              "      <td>8528164.930</td>\n",
              "      <td>8135104.036</td>\n",
              "      <td>8.224494e+06</td>\n",
              "      <td>8378405.325</td>\n",
              "      <td>8506387.388</td>\n",
              "      <td>8596917.076</td>\n",
              "      <td>8618216.000</td>\n",
              "      <td>8627720.102</td>\n",
              "      <td>8638166.000</td>\n",
              "      <td>0.022203</td>\n",
              "      <td>...</td>\n",
              "      <td>97.776591</td>\n",
              "      <td>75.709354</td>\n",
              "      <td>71.842660</td>\n",
              "      <td>73.578294</td>\n",
              "      <td>72.701561</td>\n",
              "      <td>72.835463</td>\n",
              "      <td>73.038080</td>\n",
              "      <td>73.279281</td>\n",
              "      <td>74.204303</td>\n",
              "      <td>74.790719</td>\n",
              "      <td>75.040740</td>\n",
              "      <td>75.157834</td>\n",
              "      <td>0.013816</td>\n",
              "      <td>0.027039</td>\n",
              "      <td>0.001217</td>\n",
              "      <td>55.673250</td>\n",
              "      <td>101299.764945</td>\n",
              "      <td>0.000000</td>\n",
              "      <td>0.000000</td>\n",
              "      <td>0.000000</td>\n",
              "      <td>5.358397</td>\n",
              "      <td>2.203276</td>\n",
              "      <td>8.369657</td>\n",
              "      <td>0.000000</td>\n",
              "      <td>0.000000e+00</td>\n",
              "      <td>0.000000e+00</td>\n",
              "      <td>0.000000e+00</td>\n",
              "      <td>0.000000e+00</td>\n",
              "      <td>0.000000e+00</td>\n",
              "      <td>0.000000e+00</td>\n",
              "      <td>0.000000e+00</td>\n",
              "      <td>0.000000e+00</td>\n",
              "      <td>0.000000</td>\n",
              "      <td>0.000000</td>\n",
              "      <td>0.162008</td>\n",
              "      <td>0.000000e+00</td>\n",
              "      <td>0.000000e+00</td>\n",
              "      <td>1.184812</td>\n",
              "      <td>0.931431</td>\n",
              "      <td>0</td>\n",
              "    </tr>\n",
              "    <tr>\n",
              "      <th>2</th>\n",
              "      <td>0.0</td>\n",
              "      <td>0.0</td>\n",
              "      <td>0.0</td>\n",
              "      <td>0.059546</td>\n",
              "      <td>9.122214</td>\n",
              "      <td>97.000191</td>\n",
              "      <td>0.0</td>\n",
              "      <td>0.0</td>\n",
              "      <td>0.0</td>\n",
              "      <td>0.0</td>\n",
              "      <td>0.0</td>\n",
              "      <td>0.0</td>\n",
              "      <td>0.0</td>\n",
              "      <td>0.0</td>\n",
              "      <td>0.0</td>\n",
              "      <td>0.0</td>\n",
              "      <td>0.0</td>\n",
              "      <td>0.002023</td>\n",
              "      <td>0.0</td>\n",
              "      <td>0.0</td>\n",
              "      <td>2.219661e-07</td>\n",
              "      <td>5.077007e+07</td>\n",
              "      <td>8.738280e+06</td>\n",
              "      <td>-0.434350</td>\n",
              "      <td>-1.346230</td>\n",
              "      <td>0.296373</td>\n",
              "      <td>11.734466</td>\n",
              "      <td>154.540656</td>\n",
              "      <td>8934772.84</td>\n",
              "      <td>8461425.06</td>\n",
              "      <td>8817712.000</td>\n",
              "      <td>8488073.223</td>\n",
              "      <td>8.579637e+06</td>\n",
              "      <td>8616610.080</td>\n",
              "      <td>8704056.930</td>\n",
              "      <td>8827245.504</td>\n",
              "      <td>8879749.236</td>\n",
              "      <td>8890959.662</td>\n",
              "      <td>8907958.981</td>\n",
              "      <td>0.018055</td>\n",
              "      <td>...</td>\n",
              "      <td>108.897219</td>\n",
              "      <td>77.443963</td>\n",
              "      <td>74.624176</td>\n",
              "      <td>75.676015</td>\n",
              "      <td>74.859714</td>\n",
              "      <td>75.048403</td>\n",
              "      <td>75.156496</td>\n",
              "      <td>75.287896</td>\n",
              "      <td>76.005946</td>\n",
              "      <td>76.300771</td>\n",
              "      <td>76.775136</td>\n",
              "      <td>77.228596</td>\n",
              "      <td>0.011210</td>\n",
              "      <td>0.017934</td>\n",
              "      <td>-0.000417</td>\n",
              "      <td>89.293746</td>\n",
              "      <td>172294.691156</td>\n",
              "      <td>0.000000</td>\n",
              "      <td>0.000000</td>\n",
              "      <td>0.000000</td>\n",
              "      <td>5.358397</td>\n",
              "      <td>2.203276</td>\n",
              "      <td>8.369657</td>\n",
              "      <td>0.000000</td>\n",
              "      <td>0.000000e+00</td>\n",
              "      <td>0.000000e+00</td>\n",
              "      <td>0.000000e+00</td>\n",
              "      <td>0.000000e+00</td>\n",
              "      <td>0.000000e+00</td>\n",
              "      <td>0.000000e+00</td>\n",
              "      <td>0.000000e+00</td>\n",
              "      <td>0.000000e+00</td>\n",
              "      <td>0.000000</td>\n",
              "      <td>0.000000</td>\n",
              "      <td>0.162008</td>\n",
              "      <td>0.000000e+00</td>\n",
              "      <td>0.000000e+00</td>\n",
              "      <td>1.184812</td>\n",
              "      <td>0.931431</td>\n",
              "      <td>0</td>\n",
              "    </tr>\n",
              "    <tr>\n",
              "      <th>3</th>\n",
              "      <td>0.0</td>\n",
              "      <td>0.0</td>\n",
              "      <td>0.0</td>\n",
              "      <td>0.059546</td>\n",
              "      <td>9.122214</td>\n",
              "      <td>97.000191</td>\n",
              "      <td>0.0</td>\n",
              "      <td>0.0</td>\n",
              "      <td>0.0</td>\n",
              "      <td>0.0</td>\n",
              "      <td>0.0</td>\n",
              "      <td>0.0</td>\n",
              "      <td>0.0</td>\n",
              "      <td>0.0</td>\n",
              "      <td>0.0</td>\n",
              "      <td>0.0</td>\n",
              "      <td>0.0</td>\n",
              "      <td>0.002023</td>\n",
              "      <td>0.0</td>\n",
              "      <td>0.0</td>\n",
              "      <td>2.219661e-07</td>\n",
              "      <td>5.077007e+07</td>\n",
              "      <td>8.149675e+06</td>\n",
              "      <td>-0.474125</td>\n",
              "      <td>-0.853943</td>\n",
              "      <td>0.054390</td>\n",
              "      <td>26.813762</td>\n",
              "      <td>820.568651</td>\n",
              "      <td>8185347.57</td>\n",
              "      <td>8101901.99</td>\n",
              "      <td>8155372.300</td>\n",
              "      <td>8119477.000</td>\n",
              "      <td>8.125425e+06</td>\n",
              "      <td>8139426.000</td>\n",
              "      <td>8145284.090</td>\n",
              "      <td>8159376.000</td>\n",
              "      <td>8163593.244</td>\n",
              "      <td>8169204.248</td>\n",
              "      <td>8173624.825</td>\n",
              "      <td>0.002515</td>\n",
              "      <td>...</td>\n",
              "      <td>137.665629</td>\n",
              "      <td>73.865039</td>\n",
              "      <td>72.629985</td>\n",
              "      <td>73.215180</td>\n",
              "      <td>72.803346</td>\n",
              "      <td>72.971375</td>\n",
              "      <td>73.056215</td>\n",
              "      <td>73.101755</td>\n",
              "      <td>73.324702</td>\n",
              "      <td>73.377239</td>\n",
              "      <td>73.458520</td>\n",
              "      <td>73.639411</td>\n",
              "      <td>0.004012</td>\n",
              "      <td>-0.002336</td>\n",
              "      <td>-0.000752</td>\n",
              "      <td>-186.823910</td>\n",
              "      <td>-333789.581315</td>\n",
              "      <td>0.000000</td>\n",
              "      <td>0.000000</td>\n",
              "      <td>0.000000</td>\n",
              "      <td>5.358397</td>\n",
              "      <td>2.203276</td>\n",
              "      <td>8.369657</td>\n",
              "      <td>0.000000</td>\n",
              "      <td>0.000000e+00</td>\n",
              "      <td>0.000000e+00</td>\n",
              "      <td>0.000000e+00</td>\n",
              "      <td>0.000000e+00</td>\n",
              "      <td>0.000000e+00</td>\n",
              "      <td>0.000000e+00</td>\n",
              "      <td>0.000000e+00</td>\n",
              "      <td>0.000000e+00</td>\n",
              "      <td>0.000000</td>\n",
              "      <td>0.000000</td>\n",
              "      <td>0.162008</td>\n",
              "      <td>0.000000e+00</td>\n",
              "      <td>0.000000e+00</td>\n",
              "      <td>1.184812</td>\n",
              "      <td>0.931431</td>\n",
              "      <td>0</td>\n",
              "    </tr>\n",
              "    <tr>\n",
              "      <th>4</th>\n",
              "      <td>0.0</td>\n",
              "      <td>0.0</td>\n",
              "      <td>0.0</td>\n",
              "      <td>0.059546</td>\n",
              "      <td>9.122214</td>\n",
              "      <td>97.000191</td>\n",
              "      <td>0.0</td>\n",
              "      <td>0.0</td>\n",
              "      <td>0.0</td>\n",
              "      <td>0.0</td>\n",
              "      <td>0.0</td>\n",
              "      <td>0.0</td>\n",
              "      <td>0.0</td>\n",
              "      <td>0.0</td>\n",
              "      <td>0.0</td>\n",
              "      <td>0.0</td>\n",
              "      <td>0.0</td>\n",
              "      <td>0.002023</td>\n",
              "      <td>0.0</td>\n",
              "      <td>0.0</td>\n",
              "      <td>2.219661e-07</td>\n",
              "      <td>5.077007e+07</td>\n",
              "      <td>8.489612e+06</td>\n",
              "      <td>-0.625365</td>\n",
              "      <td>-0.776408</td>\n",
              "      <td>0.131656</td>\n",
              "      <td>17.364460</td>\n",
              "      <td>335.890192</td>\n",
              "      <td>8558368.00</td>\n",
              "      <td>8378950.21</td>\n",
              "      <td>8506282.355</td>\n",
              "      <td>8408449.037</td>\n",
              "      <td>8.440038e+06</td>\n",
              "      <td>8478404.423</td>\n",
              "      <td>8478569.000</td>\n",
              "      <td>8517148.678</td>\n",
              "      <td>8525778.636</td>\n",
              "      <td>8530162.150</td>\n",
              "      <td>8534116.829</td>\n",
              "      <td>0.005752</td>\n",
              "      <td>...</td>\n",
              "      <td>112.665988</td>\n",
              "      <td>75.615463</td>\n",
              "      <td>74.072256</td>\n",
              "      <td>74.990301</td>\n",
              "      <td>74.475759</td>\n",
              "      <td>74.672700</td>\n",
              "      <td>74.803069</td>\n",
              "      <td>74.891228</td>\n",
              "      <td>75.049783</td>\n",
              "      <td>75.154451</td>\n",
              "      <td>75.244836</td>\n",
              "      <td>75.419871</td>\n",
              "      <td>0.004520</td>\n",
              "      <td>0.009418</td>\n",
              "      <td>-0.007445</td>\n",
              "      <td>26.617680</td>\n",
              "      <td>49972.391203</td>\n",
              "      <td>0.000000</td>\n",
              "      <td>0.000000</td>\n",
              "      <td>0.000000</td>\n",
              "      <td>5.358397</td>\n",
              "      <td>2.203276</td>\n",
              "      <td>8.369657</td>\n",
              "      <td>0.000000</td>\n",
              "      <td>0.000000e+00</td>\n",
              "      <td>0.000000e+00</td>\n",
              "      <td>0.000000e+00</td>\n",
              "      <td>0.000000e+00</td>\n",
              "      <td>0.000000e+00</td>\n",
              "      <td>0.000000e+00</td>\n",
              "      <td>0.000000e+00</td>\n",
              "      <td>0.000000e+00</td>\n",
              "      <td>0.000000</td>\n",
              "      <td>0.000000</td>\n",
              "      <td>0.162008</td>\n",
              "      <td>0.000000e+00</td>\n",
              "      <td>0.000000e+00</td>\n",
              "      <td>1.184812</td>\n",
              "      <td>0.931431</td>\n",
              "      <td>0</td>\n",
              "    </tr>\n",
              "    <tr>\n",
              "      <th>...</th>\n",
              "      <td>...</td>\n",
              "      <td>...</td>\n",
              "      <td>...</td>\n",
              "      <td>...</td>\n",
              "      <td>...</td>\n",
              "      <td>...</td>\n",
              "      <td>...</td>\n",
              "      <td>...</td>\n",
              "      <td>...</td>\n",
              "      <td>...</td>\n",
              "      <td>...</td>\n",
              "      <td>...</td>\n",
              "      <td>...</td>\n",
              "      <td>...</td>\n",
              "      <td>...</td>\n",
              "      <td>...</td>\n",
              "      <td>...</td>\n",
              "      <td>...</td>\n",
              "      <td>...</td>\n",
              "      <td>...</td>\n",
              "      <td>...</td>\n",
              "      <td>...</td>\n",
              "      <td>...</td>\n",
              "      <td>...</td>\n",
              "      <td>...</td>\n",
              "      <td>...</td>\n",
              "      <td>...</td>\n",
              "      <td>...</td>\n",
              "      <td>...</td>\n",
              "      <td>...</td>\n",
              "      <td>...</td>\n",
              "      <td>...</td>\n",
              "      <td>...</td>\n",
              "      <td>...</td>\n",
              "      <td>...</td>\n",
              "      <td>...</td>\n",
              "      <td>...</td>\n",
              "      <td>...</td>\n",
              "      <td>...</td>\n",
              "      <td>...</td>\n",
              "      <td>...</td>\n",
              "      <td>...</td>\n",
              "      <td>...</td>\n",
              "      <td>...</td>\n",
              "      <td>...</td>\n",
              "      <td>...</td>\n",
              "      <td>...</td>\n",
              "      <td>...</td>\n",
              "      <td>...</td>\n",
              "      <td>...</td>\n",
              "      <td>...</td>\n",
              "      <td>...</td>\n",
              "      <td>...</td>\n",
              "      <td>...</td>\n",
              "      <td>...</td>\n",
              "      <td>...</td>\n",
              "      <td>...</td>\n",
              "      <td>...</td>\n",
              "      <td>...</td>\n",
              "      <td>...</td>\n",
              "      <td>...</td>\n",
              "      <td>...</td>\n",
              "      <td>...</td>\n",
              "      <td>...</td>\n",
              "      <td>...</td>\n",
              "      <td>...</td>\n",
              "      <td>...</td>\n",
              "      <td>...</td>\n",
              "      <td>...</td>\n",
              "      <td>...</td>\n",
              "      <td>...</td>\n",
              "      <td>...</td>\n",
              "      <td>...</td>\n",
              "      <td>...</td>\n",
              "      <td>...</td>\n",
              "      <td>...</td>\n",
              "      <td>...</td>\n",
              "      <td>...</td>\n",
              "      <td>...</td>\n",
              "      <td>...</td>\n",
              "      <td>...</td>\n",
              "    </tr>\n",
              "    <tr>\n",
              "      <th>4104</th>\n",
              "      <td>0.0</td>\n",
              "      <td>0.0</td>\n",
              "      <td>0.0</td>\n",
              "      <td>0.059546</td>\n",
              "      <td>9.122214</td>\n",
              "      <td>97.000191</td>\n",
              "      <td>0.0</td>\n",
              "      <td>0.0</td>\n",
              "      <td>0.0</td>\n",
              "      <td>0.0</td>\n",
              "      <td>0.0</td>\n",
              "      <td>0.0</td>\n",
              "      <td>0.0</td>\n",
              "      <td>0.0</td>\n",
              "      <td>0.0</td>\n",
              "      <td>0.0</td>\n",
              "      <td>0.0</td>\n",
              "      <td>0.002023</td>\n",
              "      <td>0.0</td>\n",
              "      <td>0.0</td>\n",
              "      <td>2.219661e-07</td>\n",
              "      <td>5.077007e+07</td>\n",
              "      <td>0.000000e+00</td>\n",
              "      <td>0.000000</td>\n",
              "      <td>0.000000</td>\n",
              "      <td>0.111128</td>\n",
              "      <td>10.423495</td>\n",
              "      <td>124.400546</td>\n",
              "      <td>0.00</td>\n",
              "      <td>0.00</td>\n",
              "      <td>0.000</td>\n",
              "      <td>0.000</td>\n",
              "      <td>0.000000e+00</td>\n",
              "      <td>0.000</td>\n",
              "      <td>0.000</td>\n",
              "      <td>0.000</td>\n",
              "      <td>0.000</td>\n",
              "      <td>0.000</td>\n",
              "      <td>0.000</td>\n",
              "      <td>0.004540</td>\n",
              "      <td>...</td>\n",
              "      <td>129.605291</td>\n",
              "      <td>0.000000</td>\n",
              "      <td>0.000000</td>\n",
              "      <td>0.000000</td>\n",
              "      <td>0.000000</td>\n",
              "      <td>0.000000</td>\n",
              "      <td>0.000000</td>\n",
              "      <td>0.000000</td>\n",
              "      <td>0.000000</td>\n",
              "      <td>0.000000</td>\n",
              "      <td>0.000000</td>\n",
              "      <td>0.000000</td>\n",
              "      <td>0.004585</td>\n",
              "      <td>0.000000</td>\n",
              "      <td>0.000000</td>\n",
              "      <td>0.012063</td>\n",
              "      <td>-12.573590</td>\n",
              "      <td>0.009297</td>\n",
              "      <td>-0.025449</td>\n",
              "      <td>-1.582127</td>\n",
              "      <td>15.173004</td>\n",
              "      <td>0.395411</td>\n",
              "      <td>4.811017</td>\n",
              "      <td>0.020930</td>\n",
              "      <td>1.103973e-28</td>\n",
              "      <td>9.232502e-03</td>\n",
              "      <td>1.112550e-20</td>\n",
              "      <td>7.644093e-04</td>\n",
              "      <td>2.384986e-03</td>\n",
              "      <td>6.251639e-03</td>\n",
              "      <td>1.359231e-02</td>\n",
              "      <td>1.557993e-02</td>\n",
              "      <td>0.016816</td>\n",
              "      <td>0.017968</td>\n",
              "      <td>0.773141</td>\n",
              "      <td>-1.729755e-04</td>\n",
              "      <td>1.120796e-05</td>\n",
              "      <td>1.184812</td>\n",
              "      <td>0.931431</td>\n",
              "      <td>8</td>\n",
              "    </tr>\n",
              "    <tr>\n",
              "      <th>4105</th>\n",
              "      <td>0.0</td>\n",
              "      <td>0.0</td>\n",
              "      <td>0.0</td>\n",
              "      <td>0.059546</td>\n",
              "      <td>9.122214</td>\n",
              "      <td>97.000191</td>\n",
              "      <td>0.0</td>\n",
              "      <td>0.0</td>\n",
              "      <td>0.0</td>\n",
              "      <td>0.0</td>\n",
              "      <td>0.0</td>\n",
              "      <td>0.0</td>\n",
              "      <td>0.0</td>\n",
              "      <td>0.0</td>\n",
              "      <td>0.0</td>\n",
              "      <td>0.0</td>\n",
              "      <td>0.0</td>\n",
              "      <td>0.002023</td>\n",
              "      <td>0.0</td>\n",
              "      <td>0.0</td>\n",
              "      <td>2.219661e-07</td>\n",
              "      <td>5.077007e+07</td>\n",
              "      <td>0.000000e+00</td>\n",
              "      <td>0.000000</td>\n",
              "      <td>0.000000</td>\n",
              "      <td>0.111128</td>\n",
              "      <td>10.423495</td>\n",
              "      <td>124.400546</td>\n",
              "      <td>0.00</td>\n",
              "      <td>0.00</td>\n",
              "      <td>0.000</td>\n",
              "      <td>0.000</td>\n",
              "      <td>0.000000e+00</td>\n",
              "      <td>0.000</td>\n",
              "      <td>0.000</td>\n",
              "      <td>0.000</td>\n",
              "      <td>0.000</td>\n",
              "      <td>0.000</td>\n",
              "      <td>0.000</td>\n",
              "      <td>0.004540</td>\n",
              "      <td>...</td>\n",
              "      <td>129.605291</td>\n",
              "      <td>0.000000</td>\n",
              "      <td>0.000000</td>\n",
              "      <td>0.000000</td>\n",
              "      <td>0.000000</td>\n",
              "      <td>0.000000</td>\n",
              "      <td>0.000000</td>\n",
              "      <td>0.000000</td>\n",
              "      <td>0.000000</td>\n",
              "      <td>0.000000</td>\n",
              "      <td>0.000000</td>\n",
              "      <td>0.000000</td>\n",
              "      <td>0.004585</td>\n",
              "      <td>0.000000</td>\n",
              "      <td>0.000000</td>\n",
              "      <td>0.012063</td>\n",
              "      <td>-12.573590</td>\n",
              "      <td>0.003120</td>\n",
              "      <td>0.900122</td>\n",
              "      <td>-0.457048</td>\n",
              "      <td>20.724681</td>\n",
              "      <td>-0.131060</td>\n",
              "      <td>12.597405</td>\n",
              "      <td>0.012890</td>\n",
              "      <td>1.590806e-28</td>\n",
              "      <td>1.027773e-03</td>\n",
              "      <td>9.828700e-23</td>\n",
              "      <td>3.567477e-20</td>\n",
              "      <td>1.585547e-11</td>\n",
              "      <td>4.030692e-05</td>\n",
              "      <td>3.124987e-03</td>\n",
              "      <td>5.069541e-03</td>\n",
              "      <td>0.006911</td>\n",
              "      <td>0.008838</td>\n",
              "      <td>1.196435</td>\n",
              "      <td>6.796615e-23</td>\n",
              "      <td>-6.079014e-05</td>\n",
              "      <td>1.184812</td>\n",
              "      <td>0.931431</td>\n",
              "      <td>8</td>\n",
              "    </tr>\n",
              "    <tr>\n",
              "      <th>4106</th>\n",
              "      <td>0.0</td>\n",
              "      <td>0.0</td>\n",
              "      <td>0.0</td>\n",
              "      <td>0.059546</td>\n",
              "      <td>9.122214</td>\n",
              "      <td>97.000191</td>\n",
              "      <td>0.0</td>\n",
              "      <td>0.0</td>\n",
              "      <td>0.0</td>\n",
              "      <td>0.0</td>\n",
              "      <td>0.0</td>\n",
              "      <td>0.0</td>\n",
              "      <td>0.0</td>\n",
              "      <td>0.0</td>\n",
              "      <td>0.0</td>\n",
              "      <td>0.0</td>\n",
              "      <td>0.0</td>\n",
              "      <td>0.002023</td>\n",
              "      <td>0.0</td>\n",
              "      <td>0.0</td>\n",
              "      <td>2.219661e-07</td>\n",
              "      <td>5.077007e+07</td>\n",
              "      <td>0.000000e+00</td>\n",
              "      <td>0.000000</td>\n",
              "      <td>0.000000</td>\n",
              "      <td>0.111128</td>\n",
              "      <td>10.423495</td>\n",
              "      <td>124.400546</td>\n",
              "      <td>0.00</td>\n",
              "      <td>0.00</td>\n",
              "      <td>0.000</td>\n",
              "      <td>0.000</td>\n",
              "      <td>0.000000e+00</td>\n",
              "      <td>0.000</td>\n",
              "      <td>0.000</td>\n",
              "      <td>0.000</td>\n",
              "      <td>0.000</td>\n",
              "      <td>0.000</td>\n",
              "      <td>0.000</td>\n",
              "      <td>0.004540</td>\n",
              "      <td>...</td>\n",
              "      <td>129.605291</td>\n",
              "      <td>0.000000</td>\n",
              "      <td>0.000000</td>\n",
              "      <td>0.000000</td>\n",
              "      <td>0.000000</td>\n",
              "      <td>0.000000</td>\n",
              "      <td>0.000000</td>\n",
              "      <td>0.000000</td>\n",
              "      <td>0.000000</td>\n",
              "      <td>0.000000</td>\n",
              "      <td>0.000000</td>\n",
              "      <td>0.000000</td>\n",
              "      <td>0.004585</td>\n",
              "      <td>0.000000</td>\n",
              "      <td>0.000000</td>\n",
              "      <td>0.012063</td>\n",
              "      <td>-12.573590</td>\n",
              "      <td>0.000908</td>\n",
              "      <td>2.863100</td>\n",
              "      <td>8.498652</td>\n",
              "      <td>20.271356</td>\n",
              "      <td>0.092073</td>\n",
              "      <td>14.853909</td>\n",
              "      <td>0.012201</td>\n",
              "      <td>4.464235e-26</td>\n",
              "      <td>4.853610e-24</td>\n",
              "      <td>7.970210e-26</td>\n",
              "      <td>7.970210e-26</td>\n",
              "      <td>1.731983e-25</td>\n",
              "      <td>1.731983e-25</td>\n",
              "      <td>4.500418e-23</td>\n",
              "      <td>5.030951e-17</td>\n",
              "      <td>0.000456</td>\n",
              "      <td>0.004274</td>\n",
              "      <td>2.466756</td>\n",
              "      <td>-6.796537e-23</td>\n",
              "      <td>0.000000e+00</td>\n",
              "      <td>1.184812</td>\n",
              "      <td>0.931431</td>\n",
              "      <td>8</td>\n",
              "    </tr>\n",
              "    <tr>\n",
              "      <th>4107</th>\n",
              "      <td>0.0</td>\n",
              "      <td>0.0</td>\n",
              "      <td>0.0</td>\n",
              "      <td>0.059546</td>\n",
              "      <td>9.122214</td>\n",
              "      <td>97.000191</td>\n",
              "      <td>0.0</td>\n",
              "      <td>0.0</td>\n",
              "      <td>0.0</td>\n",
              "      <td>0.0</td>\n",
              "      <td>0.0</td>\n",
              "      <td>0.0</td>\n",
              "      <td>0.0</td>\n",
              "      <td>0.0</td>\n",
              "      <td>0.0</td>\n",
              "      <td>0.0</td>\n",
              "      <td>0.0</td>\n",
              "      <td>0.002023</td>\n",
              "      <td>0.0</td>\n",
              "      <td>0.0</td>\n",
              "      <td>2.219661e-07</td>\n",
              "      <td>5.077007e+07</td>\n",
              "      <td>0.000000e+00</td>\n",
              "      <td>0.000000</td>\n",
              "      <td>0.000000</td>\n",
              "      <td>0.111128</td>\n",
              "      <td>10.423495</td>\n",
              "      <td>124.400546</td>\n",
              "      <td>0.00</td>\n",
              "      <td>0.00</td>\n",
              "      <td>0.000</td>\n",
              "      <td>0.000</td>\n",
              "      <td>0.000000e+00</td>\n",
              "      <td>0.000</td>\n",
              "      <td>0.000</td>\n",
              "      <td>0.000</td>\n",
              "      <td>0.000</td>\n",
              "      <td>0.000</td>\n",
              "      <td>0.000</td>\n",
              "      <td>0.004540</td>\n",
              "      <td>...</td>\n",
              "      <td>129.605291</td>\n",
              "      <td>0.000000</td>\n",
              "      <td>0.000000</td>\n",
              "      <td>0.000000</td>\n",
              "      <td>0.000000</td>\n",
              "      <td>0.000000</td>\n",
              "      <td>0.000000</td>\n",
              "      <td>0.000000</td>\n",
              "      <td>0.000000</td>\n",
              "      <td>0.000000</td>\n",
              "      <td>0.000000</td>\n",
              "      <td>0.000000</td>\n",
              "      <td>0.004585</td>\n",
              "      <td>0.000000</td>\n",
              "      <td>0.000000</td>\n",
              "      <td>0.012063</td>\n",
              "      <td>-12.573590</td>\n",
              "      <td>0.001159</td>\n",
              "      <td>1.910885</td>\n",
              "      <td>2.595244</td>\n",
              "      <td>21.033264</td>\n",
              "      <td>-0.077626</td>\n",
              "      <td>14.008852</td>\n",
              "      <td>0.008733</td>\n",
              "      <td>1.188331e-27</td>\n",
              "      <td>1.688636e-20</td>\n",
              "      <td>1.188331e-27</td>\n",
              "      <td>9.266086e-26</td>\n",
              "      <td>4.758935e-25</td>\n",
              "      <td>1.219757e-22</td>\n",
              "      <td>3.902180e-19</td>\n",
              "      <td>1.822374e-04</td>\n",
              "      <td>0.002566</td>\n",
              "      <td>0.005243</td>\n",
              "      <td>1.915907</td>\n",
              "      <td>3.762726e-23</td>\n",
              "      <td>-1.723017e-15</td>\n",
              "      <td>1.184812</td>\n",
              "      <td>0.931431</td>\n",
              "      <td>8</td>\n",
              "    </tr>\n",
              "    <tr>\n",
              "      <th>4108</th>\n",
              "      <td>0.0</td>\n",
              "      <td>0.0</td>\n",
              "      <td>0.0</td>\n",
              "      <td>0.059546</td>\n",
              "      <td>9.122214</td>\n",
              "      <td>97.000191</td>\n",
              "      <td>0.0</td>\n",
              "      <td>0.0</td>\n",
              "      <td>0.0</td>\n",
              "      <td>0.0</td>\n",
              "      <td>0.0</td>\n",
              "      <td>0.0</td>\n",
              "      <td>0.0</td>\n",
              "      <td>0.0</td>\n",
              "      <td>0.0</td>\n",
              "      <td>0.0</td>\n",
              "      <td>0.0</td>\n",
              "      <td>0.002023</td>\n",
              "      <td>0.0</td>\n",
              "      <td>0.0</td>\n",
              "      <td>2.219661e-07</td>\n",
              "      <td>5.077007e+07</td>\n",
              "      <td>0.000000e+00</td>\n",
              "      <td>0.000000</td>\n",
              "      <td>0.000000</td>\n",
              "      <td>0.111128</td>\n",
              "      <td>10.423495</td>\n",
              "      <td>124.400546</td>\n",
              "      <td>0.00</td>\n",
              "      <td>0.00</td>\n",
              "      <td>0.000</td>\n",
              "      <td>0.000</td>\n",
              "      <td>0.000000e+00</td>\n",
              "      <td>0.000</td>\n",
              "      <td>0.000</td>\n",
              "      <td>0.000</td>\n",
              "      <td>0.000</td>\n",
              "      <td>0.000</td>\n",
              "      <td>0.000</td>\n",
              "      <td>0.004540</td>\n",
              "      <td>...</td>\n",
              "      <td>129.605291</td>\n",
              "      <td>0.000000</td>\n",
              "      <td>0.000000</td>\n",
              "      <td>0.000000</td>\n",
              "      <td>0.000000</td>\n",
              "      <td>0.000000</td>\n",
              "      <td>0.000000</td>\n",
              "      <td>0.000000</td>\n",
              "      <td>0.000000</td>\n",
              "      <td>0.000000</td>\n",
              "      <td>0.000000</td>\n",
              "      <td>0.000000</td>\n",
              "      <td>0.004585</td>\n",
              "      <td>0.000000</td>\n",
              "      <td>0.000000</td>\n",
              "      <td>0.012063</td>\n",
              "      <td>-12.573590</td>\n",
              "      <td>0.001634</td>\n",
              "      <td>1.628445</td>\n",
              "      <td>1.653498</td>\n",
              "      <td>21.358477</td>\n",
              "      <td>-0.224010</td>\n",
              "      <td>14.713506</td>\n",
              "      <td>0.010817</td>\n",
              "      <td>2.769568e-27</td>\n",
              "      <td>1.346423e-10</td>\n",
              "      <td>9.739751e-25</td>\n",
              "      <td>9.739751e-25</td>\n",
              "      <td>4.350289e-23</td>\n",
              "      <td>4.366718e-21</td>\n",
              "      <td>6.249451e-05</td>\n",
              "      <td>1.548498e-03</td>\n",
              "      <td>0.003616</td>\n",
              "      <td>0.005787</td>\n",
              "      <td>1.644894</td>\n",
              "      <td>6.192115e-05</td>\n",
              "      <td>-5.495162e-06</td>\n",
              "      <td>1.184812</td>\n",
              "      <td>0.931431</td>\n",
              "      <td>8</td>\n",
              "    </tr>\n",
              "  </tbody>\n",
              "</table>\n",
              "<p>4109 rows × 133 columns</p>\n",
              "</div>"
            ],
            "text/plain": [
              "      P-PDG__mean  ...  class\n",
              "0             0.0  ...      0\n",
              "1             0.0  ...      0\n",
              "2             0.0  ...      0\n",
              "3             0.0  ...      0\n",
              "4             0.0  ...      0\n",
              "...           ...  ...    ...\n",
              "4104          0.0  ...      8\n",
              "4105          0.0  ...      8\n",
              "4106          0.0  ...      8\n",
              "4107          0.0  ...      8\n",
              "4108          0.0  ...      8\n",
              "\n",
              "[4109 rows x 133 columns]"
            ]
          },
          "metadata": {},
          "execution_count": 88
        }
      ]
    },
    {
      "cell_type": "markdown",
      "source": [
        "#**Feature normalization**\n",
        "\n",
        "Before classification, all features should be normalised by subtracting the\n",
        "mean and scaling by the standard deviation of the data. This\n",
        "should be performed only considering the training set, i.e. excluding the currently held out fold in kfolds and the test\n",
        "data. This scaling is necessary, because the pressure data is\n",
        "orders of magnitude larger than the temperature data, and some\n",
        "classification algorithms assume that features have zeros mean\n",
        "and unit variance."
      ],
      "metadata": {
        "id": "WsRXWdzqocip"
      }
    },
    {
      "cell_type": "code",
      "source": [
        "from sklearn_pandas import DataFrameMapper\n",
        "from sklearn.preprocessing import StandardScaler\n",
        "def normalization(df):\n",
        "  mapper = DataFrameMapper([(df.columns, StandardScaler())])\n",
        "  scaled_features = mapper.fit_transform(df.copy(), 144)\n",
        "  scaled_features_df = pd.DataFrame(scaled_features, index=df.index, columns=df.columns)\n",
        "  return scaled_features_df"
      ],
      "metadata": {
        "id": "8MqcQSKUXj6L"
      },
      "execution_count": 52,
      "outputs": []
    },
    {
      "cell_type": "markdown",
      "source": [
        "Train and test data splitting and then applying normalization only to train data."
      ],
      "metadata": {
        "id": "LLYbQmz2pTgV"
      }
    },
    {
      "cell_type": "code",
      "source": [
        "from sklearn.model_selection import train_test_split\n",
        "\n",
        "def split_normalize_train(df):\n",
        "\n",
        "  train, test = train_test_split(df, test_size=0.3)\n",
        "  y_train=train['class']\n",
        "  x_train=train.drop(['class'],axis=1)\n",
        "  x_train=normalization(x_train)\n",
        "\n",
        "  y_test=test['class']\n",
        "  x_test=test.drop(['class'],axis=1)\n",
        "  return x_train,y_train,x_test,y_test"
      ],
      "metadata": {
        "id": "y7i3Mtc1ai0-"
      },
      "execution_count": 53,
      "outputs": []
    },
    {
      "cell_type": "code",
      "source": [
        "x_train30,y_train30, x_test30,y_test30 =split_normalize_train(data_30_complete)\n",
        "x_train60,y_train60, x_test60,y_test60 =split_normalize_train(data_60_complete)\n",
        "x_train90,y_train90, x_test90,y_test90 =split_normalize_train(data_90_complete)"
      ],
      "metadata": {
        "id": "TGecmGb0dRVk",
        "colab": {
          "base_uri": "https://localhost:8080/"
        },
        "outputId": "7bd69898-7c00-4830-cba0-1cba9895fbd7"
      },
      "execution_count": 89,
      "outputs": [
        {
          "output_type": "execute_result",
          "data": {
            "text/plain": [
              "7547     5\n",
              "12654    6\n",
              "13426    8\n",
              "4691     2\n",
              "11210    6\n",
              "        ..\n",
              "11104    6\n",
              "7164     5\n",
              "1247     0\n",
              "10212    5\n",
              "6819     4\n",
              "Name: class, Length: 9639, dtype: int64"
            ]
          },
          "metadata": {},
          "execution_count": 89
        }
      ]
    },
    {
      "cell_type": "code",
      "source": [
        "from sklearn.ensemble import RandomForestClassifier\n",
        "from sklearn.tree import DecisionTreeClassifier\n",
        "from sklearn.ensemble import AdaBoostClassifier\n",
        "from sklearn.ensemble import RandomForestClassifier\n",
        "from sklearn.model_selection import GridSearchCV\n",
        "from sklearn.svm import SVC\n",
        "from sklearn.linear_model import LogisticRegression\n",
        "from sklearn.metrics import f1_score, accuracy_score\n",
        "\n"
      ],
      "metadata": {
        "id": "0kr2ilk7YtDW"
      },
      "execution_count": 55,
      "outputs": []
    },
    {
      "cell_type": "code",
      "source": [
        "def comparison_of_classifiers(classifier,params,x_train,y_train,x_test,y_test):\n",
        "  clf = GridSearchCV(classifier, params, cv = 5, scoring='f1_macro')\n",
        "  clf.fit(x_train,y_train)\n",
        "  best_params=clf.best_params_\n",
        "  f1=f1_score(y_test,clf.predict(x_test),average='macro')\n",
        "  accuracy=accuracy_score(y_test,clf.predict(x_test))\n",
        "  return best_params,f1,accuracy\n",
        "\n",
        "\n"
      ],
      "metadata": {
        "id": "r-nGFg2Y7s9D"
      },
      "execution_count": 77,
      "outputs": []
    },
    {
      "cell_type": "code",
      "source": [
        "lr=[]\n",
        "params=[{'C':[1e-7, 1e-6,1e-5, 1e-4, 1e-3, 1e-2,1e-1]}]\n",
        "classifier=LogisticRegression(max_iter=1000)\n",
        "bp,f1,accuracy=comparison_of_classifiers(classifier,params,x_train30,y_train30,x_test30,y_test30)\n",
        "lr.append([bp,f1,accuracy])\n",
        "bp,f1,accuracy=comparison_of_classifiers(classifier,params,x_train60,y_train60,x_test60,y_test60)\n",
        "lr.append([bp,f1,accuracy])\n",
        "\n",
        "bp,f1,accuracy=comparison_of_classifiers(classifier,params,x_train90,y_train90,x_test90,y_test90)\n",
        "lr.append([bp,f1,accuracy])\n",
        "\n",
        "lr"
      ],
      "metadata": {
        "colab": {
          "base_uri": "https://localhost:8080/"
        },
        "id": "gHq8qWaQ8ma-",
        "outputId": "e0bceeee-6bf2-4f34-8f6e-fc1a78e611fd"
      },
      "execution_count": 70,
      "outputs": [
        {
          "output_type": "execute_result",
          "data": {
            "text/plain": [
              "[[{'C': 0.1}, 0.0833549404802866, 0.11353183248608086],\n",
              " [{'C': 0.1}, 0.08414499670102518, 0.11413612565445026],\n",
              " [{'C': 0.1}, 0.05328649196305752, 0.0746147607461476]]"
            ]
          },
          "metadata": {},
          "execution_count": 70
        }
      ]
    },
    {
      "cell_type": "code",
      "source": [
        "bp,f1,accuracy=comparison_of_classifiers(classifier,params,x_train90,y_train90,x_test90,y_test90)\n",
        "lr.append([bp,f1,accuracy])"
      ],
      "metadata": {
        "colab": {
          "base_uri": "https://localhost:8080/",
          "height": 338
        },
        "id": "pvIeN1Xia0eD",
        "outputId": "a3c7b95b-4da8-4b2b-8ca8-3078633483d3"
      },
      "execution_count": 90,
      "outputs": [
        {
          "output_type": "error",
          "ename": "ValueError",
          "evalue": "ignored",
          "traceback": [
            "\u001b[0;31m---------------------------------------------------------------------------\u001b[0m",
            "\u001b[0;31mValueError\u001b[0m                                Traceback (most recent call last)",
            "\u001b[0;32m<ipython-input-90-4fe8514808f6>\u001b[0m in \u001b[0;36m<module>\u001b[0;34m()\u001b[0m\n\u001b[0;32m----> 1\u001b[0;31m \u001b[0mbp\u001b[0m\u001b[0;34m,\u001b[0m\u001b[0mf1\u001b[0m\u001b[0;34m,\u001b[0m\u001b[0maccuracy\u001b[0m\u001b[0;34m=\u001b[0m\u001b[0mcomparison_of_classifiers\u001b[0m\u001b[0;34m(\u001b[0m\u001b[0mclassifier\u001b[0m\u001b[0;34m,\u001b[0m\u001b[0mparams\u001b[0m\u001b[0;34m,\u001b[0m\u001b[0mx_train90\u001b[0m\u001b[0;34m,\u001b[0m\u001b[0my_train90\u001b[0m\u001b[0;34m,\u001b[0m\u001b[0mx_test90\u001b[0m\u001b[0;34m,\u001b[0m\u001b[0my_test90\u001b[0m\u001b[0;34m)\u001b[0m\u001b[0;34m\u001b[0m\u001b[0;34m\u001b[0m\u001b[0m\n\u001b[0m\u001b[1;32m      2\u001b[0m \u001b[0mlr\u001b[0m\u001b[0;34m.\u001b[0m\u001b[0mappend\u001b[0m\u001b[0;34m(\u001b[0m\u001b[0;34m[\u001b[0m\u001b[0mbp\u001b[0m\u001b[0;34m,\u001b[0m\u001b[0mf1\u001b[0m\u001b[0;34m,\u001b[0m\u001b[0maccuracy\u001b[0m\u001b[0;34m]\u001b[0m\u001b[0;34m)\u001b[0m\u001b[0;34m\u001b[0m\u001b[0;34m\u001b[0m\u001b[0m\n",
            "\u001b[0;32m<ipython-input-77-eee89e182144>\u001b[0m in \u001b[0;36mcomparison_of_classifiers\u001b[0;34m(classifier, params, x_train, y_train, x_test, y_test)\u001b[0m\n\u001b[1;32m      3\u001b[0m   \u001b[0mclf\u001b[0m\u001b[0;34m.\u001b[0m\u001b[0mfit\u001b[0m\u001b[0;34m(\u001b[0m\u001b[0mx_train\u001b[0m\u001b[0;34m,\u001b[0m\u001b[0my_train\u001b[0m\u001b[0;34m)\u001b[0m\u001b[0;34m\u001b[0m\u001b[0;34m\u001b[0m\u001b[0m\n\u001b[1;32m      4\u001b[0m   \u001b[0mbest_params\u001b[0m\u001b[0;34m=\u001b[0m\u001b[0mclf\u001b[0m\u001b[0;34m.\u001b[0m\u001b[0mbest_params_\u001b[0m\u001b[0;34m\u001b[0m\u001b[0;34m\u001b[0m\u001b[0m\n\u001b[0;32m----> 5\u001b[0;31m   \u001b[0mf1\u001b[0m\u001b[0;34m=\u001b[0m\u001b[0mf1_score\u001b[0m\u001b[0;34m(\u001b[0m\u001b[0my_test\u001b[0m\u001b[0;34m,\u001b[0m\u001b[0mclf\u001b[0m\u001b[0;34m.\u001b[0m\u001b[0mpredict\u001b[0m\u001b[0;34m(\u001b[0m\u001b[0mx_test\u001b[0m\u001b[0;34m)\u001b[0m\u001b[0;34m,\u001b[0m\u001b[0maverage\u001b[0m\u001b[0;34m=\u001b[0m\u001b[0;34m'macro'\u001b[0m\u001b[0;34m)\u001b[0m\u001b[0;34m\u001b[0m\u001b[0;34m\u001b[0m\u001b[0m\n\u001b[0m\u001b[1;32m      6\u001b[0m   \u001b[0maccuracy\u001b[0m\u001b[0;34m=\u001b[0m\u001b[0maccuracy_score\u001b[0m\u001b[0;34m(\u001b[0m\u001b[0my_test\u001b[0m\u001b[0;34m,\u001b[0m\u001b[0mclf\u001b[0m\u001b[0;34m.\u001b[0m\u001b[0mpredict\u001b[0m\u001b[0;34m(\u001b[0m\u001b[0mx_test\u001b[0m\u001b[0;34m)\u001b[0m\u001b[0;34m)\u001b[0m\u001b[0;34m\u001b[0m\u001b[0;34m\u001b[0m\u001b[0m\n\u001b[1;32m      7\u001b[0m   \u001b[0;32mreturn\u001b[0m \u001b[0mbest_params\u001b[0m\u001b[0;34m,\u001b[0m\u001b[0mf1\u001b[0m\u001b[0;34m,\u001b[0m\u001b[0maccuracy\u001b[0m\u001b[0;34m\u001b[0m\u001b[0;34m\u001b[0m\u001b[0m\n",
            "\u001b[0;32m/usr/local/lib/python3.7/dist-packages/sklearn/utils/metaestimators.py\u001b[0m in \u001b[0;36m<lambda>\u001b[0;34m(*args, **kwargs)\u001b[0m\n\u001b[1;32m    111\u001b[0m \u001b[0;34m\u001b[0m\u001b[0m\n\u001b[1;32m    112\u001b[0m             \u001b[0;31m# lambda, but not partial, allows help() to work with update_wrapper\u001b[0m\u001b[0;34m\u001b[0m\u001b[0;34m\u001b[0m\u001b[0;34m\u001b[0m\u001b[0m\n\u001b[0;32m--> 113\u001b[0;31m             \u001b[0mout\u001b[0m \u001b[0;34m=\u001b[0m \u001b[0;32mlambda\u001b[0m \u001b[0;34m*\u001b[0m\u001b[0margs\u001b[0m\u001b[0;34m,\u001b[0m \u001b[0;34m**\u001b[0m\u001b[0mkwargs\u001b[0m\u001b[0;34m:\u001b[0m \u001b[0mself\u001b[0m\u001b[0;34m.\u001b[0m\u001b[0mfn\u001b[0m\u001b[0;34m(\u001b[0m\u001b[0mobj\u001b[0m\u001b[0;34m,\u001b[0m \u001b[0;34m*\u001b[0m\u001b[0margs\u001b[0m\u001b[0;34m,\u001b[0m \u001b[0;34m**\u001b[0m\u001b[0mkwargs\u001b[0m\u001b[0;34m)\u001b[0m  \u001b[0;31m# noqa\u001b[0m\u001b[0;34m\u001b[0m\u001b[0;34m\u001b[0m\u001b[0m\n\u001b[0m\u001b[1;32m    114\u001b[0m         \u001b[0;32melse\u001b[0m\u001b[0;34m:\u001b[0m\u001b[0;34m\u001b[0m\u001b[0;34m\u001b[0m\u001b[0m\n\u001b[1;32m    115\u001b[0m \u001b[0;34m\u001b[0m\u001b[0m\n",
            "\u001b[0;32m/usr/local/lib/python3.7/dist-packages/sklearn/model_selection/_search.py\u001b[0m in \u001b[0;36mpredict\u001b[0;34m(self, X)\u001b[0m\n\u001b[1;32m    519\u001b[0m         \"\"\"\n\u001b[1;32m    520\u001b[0m         \u001b[0mcheck_is_fitted\u001b[0m\u001b[0;34m(\u001b[0m\u001b[0mself\u001b[0m\u001b[0;34m)\u001b[0m\u001b[0;34m\u001b[0m\u001b[0;34m\u001b[0m\u001b[0m\n\u001b[0;32m--> 521\u001b[0;31m         \u001b[0;32mreturn\u001b[0m \u001b[0mself\u001b[0m\u001b[0;34m.\u001b[0m\u001b[0mbest_estimator_\u001b[0m\u001b[0;34m.\u001b[0m\u001b[0mpredict\u001b[0m\u001b[0;34m(\u001b[0m\u001b[0mX\u001b[0m\u001b[0;34m)\u001b[0m\u001b[0;34m\u001b[0m\u001b[0;34m\u001b[0m\u001b[0m\n\u001b[0m\u001b[1;32m    522\u001b[0m \u001b[0;34m\u001b[0m\u001b[0m\n\u001b[1;32m    523\u001b[0m     \u001b[0;34m@\u001b[0m\u001b[0mavailable_if\u001b[0m\u001b[0;34m(\u001b[0m\u001b[0m_estimator_has\u001b[0m\u001b[0;34m(\u001b[0m\u001b[0;34m\"predict_proba\"\u001b[0m\u001b[0;34m)\u001b[0m\u001b[0;34m)\u001b[0m\u001b[0;34m\u001b[0m\u001b[0;34m\u001b[0m\u001b[0m\n",
            "\u001b[0;32m/usr/local/lib/python3.7/dist-packages/sklearn/ensemble/_forest.py\u001b[0m in \u001b[0;36mpredict\u001b[0;34m(self, X)\u001b[0m\n\u001b[1;32m    796\u001b[0m             \u001b[0mThe\u001b[0m \u001b[0mpredicted\u001b[0m \u001b[0mclasses\u001b[0m\u001b[0;34m.\u001b[0m\u001b[0;34m\u001b[0m\u001b[0;34m\u001b[0m\u001b[0m\n\u001b[1;32m    797\u001b[0m         \"\"\"\n\u001b[0;32m--> 798\u001b[0;31m         \u001b[0mproba\u001b[0m \u001b[0;34m=\u001b[0m \u001b[0mself\u001b[0m\u001b[0;34m.\u001b[0m\u001b[0mpredict_proba\u001b[0m\u001b[0;34m(\u001b[0m\u001b[0mX\u001b[0m\u001b[0;34m)\u001b[0m\u001b[0;34m\u001b[0m\u001b[0;34m\u001b[0m\u001b[0m\n\u001b[0m\u001b[1;32m    799\u001b[0m \u001b[0;34m\u001b[0m\u001b[0m\n\u001b[1;32m    800\u001b[0m         \u001b[0;32mif\u001b[0m \u001b[0mself\u001b[0m\u001b[0;34m.\u001b[0m\u001b[0mn_outputs_\u001b[0m \u001b[0;34m==\u001b[0m \u001b[0;36m1\u001b[0m\u001b[0;34m:\u001b[0m\u001b[0;34m\u001b[0m\u001b[0;34m\u001b[0m\u001b[0m\n",
            "\u001b[0;32m/usr/local/lib/python3.7/dist-packages/sklearn/ensemble/_forest.py\u001b[0m in \u001b[0;36mpredict_proba\u001b[0;34m(self, X)\u001b[0m\n\u001b[1;32m    838\u001b[0m         \u001b[0mcheck_is_fitted\u001b[0m\u001b[0;34m(\u001b[0m\u001b[0mself\u001b[0m\u001b[0;34m)\u001b[0m\u001b[0;34m\u001b[0m\u001b[0;34m\u001b[0m\u001b[0m\n\u001b[1;32m    839\u001b[0m         \u001b[0;31m# Check data\u001b[0m\u001b[0;34m\u001b[0m\u001b[0;34m\u001b[0m\u001b[0;34m\u001b[0m\u001b[0m\n\u001b[0;32m--> 840\u001b[0;31m         \u001b[0mX\u001b[0m \u001b[0;34m=\u001b[0m \u001b[0mself\u001b[0m\u001b[0;34m.\u001b[0m\u001b[0m_validate_X_predict\u001b[0m\u001b[0;34m(\u001b[0m\u001b[0mX\u001b[0m\u001b[0;34m)\u001b[0m\u001b[0;34m\u001b[0m\u001b[0;34m\u001b[0m\u001b[0m\n\u001b[0m\u001b[1;32m    841\u001b[0m \u001b[0;34m\u001b[0m\u001b[0m\n\u001b[1;32m    842\u001b[0m         \u001b[0;31m# Assign chunk of trees to jobs\u001b[0m\u001b[0;34m\u001b[0m\u001b[0;34m\u001b[0m\u001b[0;34m\u001b[0m\u001b[0m\n",
            "\u001b[0;32m/usr/local/lib/python3.7/dist-packages/sklearn/ensemble/_forest.py\u001b[0m in \u001b[0;36m_validate_X_predict\u001b[0;34m(self, X)\u001b[0m\n\u001b[1;32m    567\u001b[0m         Validate X whenever one tries to predict, apply, predict_proba.\"\"\"\n\u001b[1;32m    568\u001b[0m         \u001b[0mcheck_is_fitted\u001b[0m\u001b[0;34m(\u001b[0m\u001b[0mself\u001b[0m\u001b[0;34m)\u001b[0m\u001b[0;34m\u001b[0m\u001b[0;34m\u001b[0m\u001b[0m\n\u001b[0;32m--> 569\u001b[0;31m         \u001b[0mX\u001b[0m \u001b[0;34m=\u001b[0m \u001b[0mself\u001b[0m\u001b[0;34m.\u001b[0m\u001b[0m_validate_data\u001b[0m\u001b[0;34m(\u001b[0m\u001b[0mX\u001b[0m\u001b[0;34m,\u001b[0m \u001b[0mdtype\u001b[0m\u001b[0;34m=\u001b[0m\u001b[0mDTYPE\u001b[0m\u001b[0;34m,\u001b[0m \u001b[0maccept_sparse\u001b[0m\u001b[0;34m=\u001b[0m\u001b[0;34m\"csr\"\u001b[0m\u001b[0;34m,\u001b[0m \u001b[0mreset\u001b[0m\u001b[0;34m=\u001b[0m\u001b[0;32mFalse\u001b[0m\u001b[0;34m)\u001b[0m\u001b[0;34m\u001b[0m\u001b[0;34m\u001b[0m\u001b[0m\n\u001b[0m\u001b[1;32m    570\u001b[0m         \u001b[0;32mif\u001b[0m \u001b[0missparse\u001b[0m\u001b[0;34m(\u001b[0m\u001b[0mX\u001b[0m\u001b[0;34m)\u001b[0m \u001b[0;32mand\u001b[0m \u001b[0;34m(\u001b[0m\u001b[0mX\u001b[0m\u001b[0;34m.\u001b[0m\u001b[0mindices\u001b[0m\u001b[0;34m.\u001b[0m\u001b[0mdtype\u001b[0m \u001b[0;34m!=\u001b[0m \u001b[0mnp\u001b[0m\u001b[0;34m.\u001b[0m\u001b[0mintc\u001b[0m \u001b[0;32mor\u001b[0m \u001b[0mX\u001b[0m\u001b[0;34m.\u001b[0m\u001b[0mindptr\u001b[0m\u001b[0;34m.\u001b[0m\u001b[0mdtype\u001b[0m \u001b[0;34m!=\u001b[0m \u001b[0mnp\u001b[0m\u001b[0;34m.\u001b[0m\u001b[0mintc\u001b[0m\u001b[0;34m)\u001b[0m\u001b[0;34m:\u001b[0m\u001b[0;34m\u001b[0m\u001b[0;34m\u001b[0m\u001b[0m\n\u001b[1;32m    571\u001b[0m             \u001b[0;32mraise\u001b[0m \u001b[0mValueError\u001b[0m\u001b[0;34m(\u001b[0m\u001b[0;34m\"No support for np.int64 index based sparse matrices\"\u001b[0m\u001b[0;34m)\u001b[0m\u001b[0;34m\u001b[0m\u001b[0;34m\u001b[0m\u001b[0m\n",
            "\u001b[0;32m/usr/local/lib/python3.7/dist-packages/sklearn/base.py\u001b[0m in \u001b[0;36m_validate_data\u001b[0;34m(self, X, y, reset, validate_separately, **check_params)\u001b[0m\n\u001b[1;32m    559\u001b[0m             \u001b[0;32mraise\u001b[0m \u001b[0mValueError\u001b[0m\u001b[0;34m(\u001b[0m\u001b[0;34m\"Validation should be done on X, y or both.\"\u001b[0m\u001b[0;34m)\u001b[0m\u001b[0;34m\u001b[0m\u001b[0;34m\u001b[0m\u001b[0m\n\u001b[1;32m    560\u001b[0m         \u001b[0;32melif\u001b[0m \u001b[0;32mnot\u001b[0m \u001b[0mno_val_X\u001b[0m \u001b[0;32mand\u001b[0m \u001b[0mno_val_y\u001b[0m\u001b[0;34m:\u001b[0m\u001b[0;34m\u001b[0m\u001b[0;34m\u001b[0m\u001b[0m\n\u001b[0;32m--> 561\u001b[0;31m             \u001b[0mX\u001b[0m \u001b[0;34m=\u001b[0m \u001b[0mcheck_array\u001b[0m\u001b[0;34m(\u001b[0m\u001b[0mX\u001b[0m\u001b[0;34m,\u001b[0m \u001b[0;34m**\u001b[0m\u001b[0mcheck_params\u001b[0m\u001b[0;34m)\u001b[0m\u001b[0;34m\u001b[0m\u001b[0;34m\u001b[0m\u001b[0m\n\u001b[0m\u001b[1;32m    562\u001b[0m             \u001b[0mout\u001b[0m \u001b[0;34m=\u001b[0m \u001b[0mX\u001b[0m\u001b[0;34m\u001b[0m\u001b[0;34m\u001b[0m\u001b[0m\n\u001b[1;32m    563\u001b[0m         \u001b[0;32melif\u001b[0m \u001b[0mno_val_X\u001b[0m \u001b[0;32mand\u001b[0m \u001b[0;32mnot\u001b[0m \u001b[0mno_val_y\u001b[0m\u001b[0;34m:\u001b[0m\u001b[0;34m\u001b[0m\u001b[0;34m\u001b[0m\u001b[0m\n",
            "\u001b[0;32m/usr/local/lib/python3.7/dist-packages/sklearn/utils/validation.py\u001b[0m in \u001b[0;36mcheck_array\u001b[0;34m(array, accept_sparse, accept_large_sparse, dtype, order, copy, force_all_finite, ensure_2d, allow_nd, ensure_min_samples, ensure_min_features, estimator)\u001b[0m\n\u001b[1;32m    790\u001b[0m \u001b[0;34m\u001b[0m\u001b[0m\n\u001b[1;32m    791\u001b[0m         \u001b[0;32mif\u001b[0m \u001b[0mforce_all_finite\u001b[0m\u001b[0;34m:\u001b[0m\u001b[0;34m\u001b[0m\u001b[0;34m\u001b[0m\u001b[0m\n\u001b[0;32m--> 792\u001b[0;31m             \u001b[0m_assert_all_finite\u001b[0m\u001b[0;34m(\u001b[0m\u001b[0marray\u001b[0m\u001b[0;34m,\u001b[0m \u001b[0mallow_nan\u001b[0m\u001b[0;34m=\u001b[0m\u001b[0mforce_all_finite\u001b[0m \u001b[0;34m==\u001b[0m \u001b[0;34m\"allow-nan\"\u001b[0m\u001b[0;34m)\u001b[0m\u001b[0;34m\u001b[0m\u001b[0;34m\u001b[0m\u001b[0m\n\u001b[0m\u001b[1;32m    793\u001b[0m \u001b[0;34m\u001b[0m\u001b[0m\n\u001b[1;32m    794\u001b[0m     \u001b[0;32mif\u001b[0m \u001b[0mensure_min_samples\u001b[0m \u001b[0;34m>\u001b[0m \u001b[0;36m0\u001b[0m\u001b[0;34m:\u001b[0m\u001b[0;34m\u001b[0m\u001b[0;34m\u001b[0m\u001b[0m\n",
            "\u001b[0;32m/usr/local/lib/python3.7/dist-packages/sklearn/utils/validation.py\u001b[0m in \u001b[0;36m_assert_all_finite\u001b[0;34m(X, allow_nan, msg_dtype)\u001b[0m\n\u001b[1;32m    114\u001b[0m             raise ValueError(\n\u001b[1;32m    115\u001b[0m                 msg_err.format(\n\u001b[0;32m--> 116\u001b[0;31m                     \u001b[0mtype_err\u001b[0m\u001b[0;34m,\u001b[0m \u001b[0mmsg_dtype\u001b[0m \u001b[0;32mif\u001b[0m \u001b[0mmsg_dtype\u001b[0m \u001b[0;32mis\u001b[0m \u001b[0;32mnot\u001b[0m \u001b[0;32mNone\u001b[0m \u001b[0;32melse\u001b[0m \u001b[0mX\u001b[0m\u001b[0;34m.\u001b[0m\u001b[0mdtype\u001b[0m\u001b[0;34m\u001b[0m\u001b[0;34m\u001b[0m\u001b[0m\n\u001b[0m\u001b[1;32m    117\u001b[0m                 )\n\u001b[1;32m    118\u001b[0m             )\n",
            "\u001b[0;31mValueError\u001b[0m: Input contains NaN, infinity or a value too large for dtype('float32')."
          ]
        }
      ]
    },
    {
      "cell_type": "code",
      "source": [
        ""
      ],
      "metadata": {
        "id": "HcQAdmkgdBPF"
      },
      "execution_count": null,
      "outputs": []
    },
    {
      "cell_type": "code",
      "source": [
        "lr"
      ],
      "metadata": {
        "id": "ESNeNH9NbqrY"
      },
      "execution_count": null,
      "outputs": []
    },
    {
      "cell_type": "code",
      "source": [
        "svc=[]\n",
        "params=[{'C':[1e-7, 1e-6,1e-5, 1e-4, 1e-3, 1e-2,1e-1]}]\n",
        "classifier=SVC()\n",
        "\n",
        "bp,f1,accuracy=comparison_of_classifiers(classifier,params,x_train30,y_train30, x_test30,y_test30)\n",
        "svc.append([bp,f1,accuracy])\n",
        "\n",
        "bp,f1,accuracy=comparison_of_classifiers(classifier,params,x_train60,y_train60, x_test60,y_test60)\n",
        "svc.append([bp,f1,accuracy])\n",
        "\n",
        "bp,f1,accuracy=comparison_of_classifiers(classifier,params,x_train90,y_train90, x_test90,y_test90)\n",
        "svc.append([bp,f1,accuracy])\n",
        "\n",
        "bp"
      ],
      "metadata": {
        "colab": {
          "base_uri": "https://localhost:8080/"
        },
        "id": "PgJBk9dI80jr",
        "outputId": "3bea6b0d-054f-4fea-cdc1-f4b4b07a5ed0"
      },
      "execution_count": 71,
      "outputs": [
        {
          "output_type": "execute_result",
          "data": {
            "text/plain": [
              "{'C': 1e-07}"
            ]
          },
          "metadata": {},
          "execution_count": 71
        }
      ]
    },
    {
      "cell_type": "code",
      "source": [
        "svc"
      ],
      "metadata": {
        "colab": {
          "base_uri": "https://localhost:8080/"
        },
        "id": "f02WmqMJY8Y7",
        "outputId": "bbdbfcf5-0c96-4631-9beb-a83f63662a1c"
      },
      "execution_count": 73,
      "outputs": [
        {
          "output_type": "execute_result",
          "data": {
            "text/plain": [
              "[[{'C': 1e-07}, 0.050183241712477095, 0.2916969256838538],\n",
              " [{'C': 1e-07}, 0.047193585337915234, 0.2696335078534031],\n",
              " [{'C': 1e-07}, 0.05901486988847584, 0.30900243309002434]]"
            ]
          },
          "metadata": {},
          "execution_count": 73
        }
      ]
    },
    {
      "cell_type": "code",
      "source": [
        "dt=[]\n",
        "params=[{'ccp_alpha' : [1e-5, 1e-4, 1e-3, 1e-2, 1e-1]}]\n",
        "classifier=DecisionTreeClassifier()\n",
        "\n",
        "bp,f1,accuracy=comparison_of_classifiers(classifier,params,x_train30,y_train30, x_test30,y_test30)\n",
        "dt.append([bp,f1,accuracy])\n",
        "\n",
        "bp,f1,accuracy=comparison_of_classifiers(classifier,params,x_train60,y_train60, x_test60,y_test60)\n",
        "dt.append([bp,f1,accuracy])\n",
        "\n",
        "bp,f1,accuracy=comparison_of_classifiers(classifier,params,x_train90,y_train90, x_test90,y_test90)\n",
        "dt.append([bp,f1,accuracy])\n",
        "\n",
        "dt"
      ],
      "metadata": {
        "colab": {
          "base_uri": "https://localhost:8080/",
          "height": 392
        },
        "id": "T7fHqVEF-aRZ",
        "outputId": "bac2e69f-927f-4c00-a06f-c64787c75b28"
      },
      "execution_count": 72,
      "outputs": [
        {
          "output_type": "error",
          "ename": "ValueError",
          "evalue": "ignored",
          "traceback": [
            "\u001b[0;31m---------------------------------------------------------------------------\u001b[0m",
            "\u001b[0;31mValueError\u001b[0m                                Traceback (most recent call last)",
            "\u001b[0;32m<ipython-input-72-583ed3fa182c>\u001b[0m in \u001b[0;36m<module>\u001b[0;34m()\u001b[0m\n\u001b[1;32m      3\u001b[0m \u001b[0mclassifier\u001b[0m\u001b[0;34m=\u001b[0m\u001b[0mDecisionTreeClassifier\u001b[0m\u001b[0;34m(\u001b[0m\u001b[0;34m)\u001b[0m\u001b[0;34m\u001b[0m\u001b[0;34m\u001b[0m\u001b[0m\n\u001b[1;32m      4\u001b[0m \u001b[0;34m\u001b[0m\u001b[0m\n\u001b[0;32m----> 5\u001b[0;31m \u001b[0mbp\u001b[0m\u001b[0;34m,\u001b[0m\u001b[0mf1\u001b[0m\u001b[0;34m,\u001b[0m\u001b[0maccuracy\u001b[0m\u001b[0;34m=\u001b[0m\u001b[0mcomparison_of_classifiers\u001b[0m\u001b[0;34m(\u001b[0m\u001b[0mclassifier\u001b[0m\u001b[0;34m,\u001b[0m\u001b[0mparams\u001b[0m\u001b[0;34m,\u001b[0m\u001b[0mx_train30\u001b[0m\u001b[0;34m,\u001b[0m\u001b[0my_train30\u001b[0m\u001b[0;34m,\u001b[0m \u001b[0mx_test30\u001b[0m\u001b[0;34m,\u001b[0m\u001b[0my_test30\u001b[0m\u001b[0;34m)\u001b[0m\u001b[0;34m\u001b[0m\u001b[0;34m\u001b[0m\u001b[0m\n\u001b[0m\u001b[1;32m      6\u001b[0m \u001b[0mdt\u001b[0m\u001b[0;34m.\u001b[0m\u001b[0mappend\u001b[0m\u001b[0;34m(\u001b[0m\u001b[0;34m[\u001b[0m\u001b[0mbp\u001b[0m\u001b[0;34m,\u001b[0m\u001b[0mf1\u001b[0m\u001b[0;34m,\u001b[0m\u001b[0maccuracy\u001b[0m\u001b[0;34m]\u001b[0m\u001b[0;34m)\u001b[0m\u001b[0;34m\u001b[0m\u001b[0;34m\u001b[0m\u001b[0m\n\u001b[1;32m      7\u001b[0m \u001b[0;34m\u001b[0m\u001b[0m\n",
            "\u001b[0;32m<ipython-input-64-7ede96f91875>\u001b[0m in \u001b[0;36mcomparison_of_classifiers\u001b[0;34m(classifier, params, x_train, y_train, x_test, y_test)\u001b[0m\n\u001b[1;32m      3\u001b[0m   \u001b[0mclf\u001b[0m\u001b[0;34m.\u001b[0m\u001b[0mfit\u001b[0m\u001b[0;34m(\u001b[0m\u001b[0mx_train30_final\u001b[0m\u001b[0;34m,\u001b[0m\u001b[0my_train30\u001b[0m\u001b[0;34m)\u001b[0m\u001b[0;34m\u001b[0m\u001b[0;34m\u001b[0m\u001b[0m\n\u001b[1;32m      4\u001b[0m   \u001b[0mbest_params\u001b[0m\u001b[0;34m=\u001b[0m\u001b[0mclf\u001b[0m\u001b[0;34m.\u001b[0m\u001b[0mbest_params_\u001b[0m\u001b[0;34m\u001b[0m\u001b[0;34m\u001b[0m\u001b[0m\n\u001b[0;32m----> 5\u001b[0;31m   \u001b[0mf1\u001b[0m\u001b[0;34m=\u001b[0m\u001b[0mf1_score\u001b[0m\u001b[0;34m(\u001b[0m\u001b[0my_test\u001b[0m\u001b[0;34m,\u001b[0m\u001b[0mclf\u001b[0m\u001b[0;34m.\u001b[0m\u001b[0mpredict\u001b[0m\u001b[0;34m(\u001b[0m\u001b[0mx_test\u001b[0m\u001b[0;34m)\u001b[0m\u001b[0;34m,\u001b[0m\u001b[0maverage\u001b[0m\u001b[0;34m=\u001b[0m\u001b[0;34m'macro'\u001b[0m\u001b[0;34m)\u001b[0m\u001b[0;34m\u001b[0m\u001b[0;34m\u001b[0m\u001b[0m\n\u001b[0m\u001b[1;32m      6\u001b[0m   \u001b[0maccuracy\u001b[0m\u001b[0;34m=\u001b[0m\u001b[0maccuracy_score\u001b[0m\u001b[0;34m(\u001b[0m\u001b[0my_test\u001b[0m\u001b[0;34m,\u001b[0m\u001b[0mclf\u001b[0m\u001b[0;34m.\u001b[0m\u001b[0mpredict\u001b[0m\u001b[0;34m(\u001b[0m\u001b[0mx_test\u001b[0m\u001b[0;34m)\u001b[0m\u001b[0;34m)\u001b[0m\u001b[0;34m\u001b[0m\u001b[0;34m\u001b[0m\u001b[0m\n\u001b[1;32m      7\u001b[0m   \u001b[0;32mreturn\u001b[0m \u001b[0mbest_params\u001b[0m\u001b[0;34m,\u001b[0m\u001b[0mf1\u001b[0m\u001b[0;34m,\u001b[0m\u001b[0maccuracy\u001b[0m\u001b[0;34m\u001b[0m\u001b[0;34m\u001b[0m\u001b[0m\n",
            "\u001b[0;32m/usr/local/lib/python3.7/dist-packages/sklearn/utils/metaestimators.py\u001b[0m in \u001b[0;36m<lambda>\u001b[0;34m(*args, **kwargs)\u001b[0m\n\u001b[1;32m    111\u001b[0m \u001b[0;34m\u001b[0m\u001b[0m\n\u001b[1;32m    112\u001b[0m             \u001b[0;31m# lambda, but not partial, allows help() to work with update_wrapper\u001b[0m\u001b[0;34m\u001b[0m\u001b[0;34m\u001b[0m\u001b[0;34m\u001b[0m\u001b[0m\n\u001b[0;32m--> 113\u001b[0;31m             \u001b[0mout\u001b[0m \u001b[0;34m=\u001b[0m \u001b[0;32mlambda\u001b[0m \u001b[0;34m*\u001b[0m\u001b[0margs\u001b[0m\u001b[0;34m,\u001b[0m \u001b[0;34m**\u001b[0m\u001b[0mkwargs\u001b[0m\u001b[0;34m:\u001b[0m \u001b[0mself\u001b[0m\u001b[0;34m.\u001b[0m\u001b[0mfn\u001b[0m\u001b[0;34m(\u001b[0m\u001b[0mobj\u001b[0m\u001b[0;34m,\u001b[0m \u001b[0;34m*\u001b[0m\u001b[0margs\u001b[0m\u001b[0;34m,\u001b[0m \u001b[0;34m**\u001b[0m\u001b[0mkwargs\u001b[0m\u001b[0;34m)\u001b[0m  \u001b[0;31m# noqa\u001b[0m\u001b[0;34m\u001b[0m\u001b[0;34m\u001b[0m\u001b[0m\n\u001b[0m\u001b[1;32m    114\u001b[0m         \u001b[0;32melse\u001b[0m\u001b[0;34m:\u001b[0m\u001b[0;34m\u001b[0m\u001b[0;34m\u001b[0m\u001b[0m\n\u001b[1;32m    115\u001b[0m \u001b[0;34m\u001b[0m\u001b[0m\n",
            "\u001b[0;32m/usr/local/lib/python3.7/dist-packages/sklearn/model_selection/_search.py\u001b[0m in \u001b[0;36mpredict\u001b[0;34m(self, X)\u001b[0m\n\u001b[1;32m    519\u001b[0m         \"\"\"\n\u001b[1;32m    520\u001b[0m         \u001b[0mcheck_is_fitted\u001b[0m\u001b[0;34m(\u001b[0m\u001b[0mself\u001b[0m\u001b[0;34m)\u001b[0m\u001b[0;34m\u001b[0m\u001b[0;34m\u001b[0m\u001b[0m\n\u001b[0;32m--> 521\u001b[0;31m         \u001b[0;32mreturn\u001b[0m \u001b[0mself\u001b[0m\u001b[0;34m.\u001b[0m\u001b[0mbest_estimator_\u001b[0m\u001b[0;34m.\u001b[0m\u001b[0mpredict\u001b[0m\u001b[0;34m(\u001b[0m\u001b[0mX\u001b[0m\u001b[0;34m)\u001b[0m\u001b[0;34m\u001b[0m\u001b[0;34m\u001b[0m\u001b[0m\n\u001b[0m\u001b[1;32m    522\u001b[0m \u001b[0;34m\u001b[0m\u001b[0m\n\u001b[1;32m    523\u001b[0m     \u001b[0;34m@\u001b[0m\u001b[0mavailable_if\u001b[0m\u001b[0;34m(\u001b[0m\u001b[0m_estimator_has\u001b[0m\u001b[0;34m(\u001b[0m\u001b[0;34m\"predict_proba\"\u001b[0m\u001b[0;34m)\u001b[0m\u001b[0;34m)\u001b[0m\u001b[0;34m\u001b[0m\u001b[0;34m\u001b[0m\u001b[0m\n",
            "\u001b[0;32m/usr/local/lib/python3.7/dist-packages/sklearn/tree/_classes.py\u001b[0m in \u001b[0;36mpredict\u001b[0;34m(self, X, check_input)\u001b[0m\n\u001b[1;32m    465\u001b[0m         \"\"\"\n\u001b[1;32m    466\u001b[0m         \u001b[0mcheck_is_fitted\u001b[0m\u001b[0;34m(\u001b[0m\u001b[0mself\u001b[0m\u001b[0;34m)\u001b[0m\u001b[0;34m\u001b[0m\u001b[0;34m\u001b[0m\u001b[0m\n\u001b[0;32m--> 467\u001b[0;31m         \u001b[0mX\u001b[0m \u001b[0;34m=\u001b[0m \u001b[0mself\u001b[0m\u001b[0;34m.\u001b[0m\u001b[0m_validate_X_predict\u001b[0m\u001b[0;34m(\u001b[0m\u001b[0mX\u001b[0m\u001b[0;34m,\u001b[0m \u001b[0mcheck_input\u001b[0m\u001b[0;34m)\u001b[0m\u001b[0;34m\u001b[0m\u001b[0;34m\u001b[0m\u001b[0m\n\u001b[0m\u001b[1;32m    468\u001b[0m         \u001b[0mproba\u001b[0m \u001b[0;34m=\u001b[0m \u001b[0mself\u001b[0m\u001b[0;34m.\u001b[0m\u001b[0mtree_\u001b[0m\u001b[0;34m.\u001b[0m\u001b[0mpredict\u001b[0m\u001b[0;34m(\u001b[0m\u001b[0mX\u001b[0m\u001b[0;34m)\u001b[0m\u001b[0;34m\u001b[0m\u001b[0;34m\u001b[0m\u001b[0m\n\u001b[1;32m    469\u001b[0m         \u001b[0mn_samples\u001b[0m \u001b[0;34m=\u001b[0m \u001b[0mX\u001b[0m\u001b[0;34m.\u001b[0m\u001b[0mshape\u001b[0m\u001b[0;34m[\u001b[0m\u001b[0;36m0\u001b[0m\u001b[0;34m]\u001b[0m\u001b[0;34m\u001b[0m\u001b[0;34m\u001b[0m\u001b[0m\n",
            "\u001b[0;32m/usr/local/lib/python3.7/dist-packages/sklearn/tree/_classes.py\u001b[0m in \u001b[0;36m_validate_X_predict\u001b[0;34m(self, X, check_input)\u001b[0m\n\u001b[1;32m    431\u001b[0m         \u001b[0;34m\"\"\"Validate the training data on predict (probabilities).\"\"\"\u001b[0m\u001b[0;34m\u001b[0m\u001b[0;34m\u001b[0m\u001b[0m\n\u001b[1;32m    432\u001b[0m         \u001b[0;32mif\u001b[0m \u001b[0mcheck_input\u001b[0m\u001b[0;34m:\u001b[0m\u001b[0;34m\u001b[0m\u001b[0;34m\u001b[0m\u001b[0m\n\u001b[0;32m--> 433\u001b[0;31m             \u001b[0mX\u001b[0m \u001b[0;34m=\u001b[0m \u001b[0mself\u001b[0m\u001b[0;34m.\u001b[0m\u001b[0m_validate_data\u001b[0m\u001b[0;34m(\u001b[0m\u001b[0mX\u001b[0m\u001b[0;34m,\u001b[0m \u001b[0mdtype\u001b[0m\u001b[0;34m=\u001b[0m\u001b[0mDTYPE\u001b[0m\u001b[0;34m,\u001b[0m \u001b[0maccept_sparse\u001b[0m\u001b[0;34m=\u001b[0m\u001b[0;34m\"csr\"\u001b[0m\u001b[0;34m,\u001b[0m \u001b[0mreset\u001b[0m\u001b[0;34m=\u001b[0m\u001b[0;32mFalse\u001b[0m\u001b[0;34m)\u001b[0m\u001b[0;34m\u001b[0m\u001b[0;34m\u001b[0m\u001b[0m\n\u001b[0m\u001b[1;32m    434\u001b[0m             if issparse(X) and (\n\u001b[1;32m    435\u001b[0m                 \u001b[0mX\u001b[0m\u001b[0;34m.\u001b[0m\u001b[0mindices\u001b[0m\u001b[0;34m.\u001b[0m\u001b[0mdtype\u001b[0m \u001b[0;34m!=\u001b[0m \u001b[0mnp\u001b[0m\u001b[0;34m.\u001b[0m\u001b[0mintc\u001b[0m \u001b[0;32mor\u001b[0m \u001b[0mX\u001b[0m\u001b[0;34m.\u001b[0m\u001b[0mindptr\u001b[0m\u001b[0;34m.\u001b[0m\u001b[0mdtype\u001b[0m \u001b[0;34m!=\u001b[0m \u001b[0mnp\u001b[0m\u001b[0;34m.\u001b[0m\u001b[0mintc\u001b[0m\u001b[0;34m\u001b[0m\u001b[0;34m\u001b[0m\u001b[0m\n",
            "\u001b[0;32m/usr/local/lib/python3.7/dist-packages/sklearn/base.py\u001b[0m in \u001b[0;36m_validate_data\u001b[0;34m(self, X, y, reset, validate_separately, **check_params)\u001b[0m\n\u001b[1;32m    559\u001b[0m             \u001b[0;32mraise\u001b[0m \u001b[0mValueError\u001b[0m\u001b[0;34m(\u001b[0m\u001b[0;34m\"Validation should be done on X, y or both.\"\u001b[0m\u001b[0;34m)\u001b[0m\u001b[0;34m\u001b[0m\u001b[0;34m\u001b[0m\u001b[0m\n\u001b[1;32m    560\u001b[0m         \u001b[0;32melif\u001b[0m \u001b[0;32mnot\u001b[0m \u001b[0mno_val_X\u001b[0m \u001b[0;32mand\u001b[0m \u001b[0mno_val_y\u001b[0m\u001b[0;34m:\u001b[0m\u001b[0;34m\u001b[0m\u001b[0;34m\u001b[0m\u001b[0m\n\u001b[0;32m--> 561\u001b[0;31m             \u001b[0mX\u001b[0m \u001b[0;34m=\u001b[0m \u001b[0mcheck_array\u001b[0m\u001b[0;34m(\u001b[0m\u001b[0mX\u001b[0m\u001b[0;34m,\u001b[0m \u001b[0;34m**\u001b[0m\u001b[0mcheck_params\u001b[0m\u001b[0;34m)\u001b[0m\u001b[0;34m\u001b[0m\u001b[0;34m\u001b[0m\u001b[0m\n\u001b[0m\u001b[1;32m    562\u001b[0m             \u001b[0mout\u001b[0m \u001b[0;34m=\u001b[0m \u001b[0mX\u001b[0m\u001b[0;34m\u001b[0m\u001b[0;34m\u001b[0m\u001b[0m\n\u001b[1;32m    563\u001b[0m         \u001b[0;32melif\u001b[0m \u001b[0mno_val_X\u001b[0m \u001b[0;32mand\u001b[0m \u001b[0;32mnot\u001b[0m \u001b[0mno_val_y\u001b[0m\u001b[0;34m:\u001b[0m\u001b[0;34m\u001b[0m\u001b[0;34m\u001b[0m\u001b[0m\n",
            "\u001b[0;32m/usr/local/lib/python3.7/dist-packages/sklearn/utils/validation.py\u001b[0m in \u001b[0;36mcheck_array\u001b[0;34m(array, accept_sparse, accept_large_sparse, dtype, order, copy, force_all_finite, ensure_2d, allow_nd, ensure_min_samples, ensure_min_features, estimator)\u001b[0m\n\u001b[1;32m    790\u001b[0m \u001b[0;34m\u001b[0m\u001b[0m\n\u001b[1;32m    791\u001b[0m         \u001b[0;32mif\u001b[0m \u001b[0mforce_all_finite\u001b[0m\u001b[0;34m:\u001b[0m\u001b[0;34m\u001b[0m\u001b[0;34m\u001b[0m\u001b[0m\n\u001b[0;32m--> 792\u001b[0;31m             \u001b[0m_assert_all_finite\u001b[0m\u001b[0;34m(\u001b[0m\u001b[0marray\u001b[0m\u001b[0;34m,\u001b[0m \u001b[0mallow_nan\u001b[0m\u001b[0;34m=\u001b[0m\u001b[0mforce_all_finite\u001b[0m \u001b[0;34m==\u001b[0m \u001b[0;34m\"allow-nan\"\u001b[0m\u001b[0;34m)\u001b[0m\u001b[0;34m\u001b[0m\u001b[0;34m\u001b[0m\u001b[0m\n\u001b[0m\u001b[1;32m    793\u001b[0m \u001b[0;34m\u001b[0m\u001b[0m\n\u001b[1;32m    794\u001b[0m     \u001b[0;32mif\u001b[0m \u001b[0mensure_min_samples\u001b[0m \u001b[0;34m>\u001b[0m \u001b[0;36m0\u001b[0m\u001b[0;34m:\u001b[0m\u001b[0;34m\u001b[0m\u001b[0;34m\u001b[0m\u001b[0m\n",
            "\u001b[0;32m/usr/local/lib/python3.7/dist-packages/sklearn/utils/validation.py\u001b[0m in \u001b[0;36m_assert_all_finite\u001b[0;34m(X, allow_nan, msg_dtype)\u001b[0m\n\u001b[1;32m    114\u001b[0m             raise ValueError(\n\u001b[1;32m    115\u001b[0m                 msg_err.format(\n\u001b[0;32m--> 116\u001b[0;31m                     \u001b[0mtype_err\u001b[0m\u001b[0;34m,\u001b[0m \u001b[0mmsg_dtype\u001b[0m \u001b[0;32mif\u001b[0m \u001b[0mmsg_dtype\u001b[0m \u001b[0;32mis\u001b[0m \u001b[0;32mnot\u001b[0m \u001b[0;32mNone\u001b[0m \u001b[0;32melse\u001b[0m \u001b[0mX\u001b[0m\u001b[0;34m.\u001b[0m\u001b[0mdtype\u001b[0m\u001b[0;34m\u001b[0m\u001b[0;34m\u001b[0m\u001b[0m\n\u001b[0m\u001b[1;32m    117\u001b[0m                 )\n\u001b[1;32m    118\u001b[0m             )\n",
            "\u001b[0;31mValueError\u001b[0m: Input contains NaN, infinity or a value too large for dtype('float32')."
          ]
        }
      ]
    },
    {
      "cell_type": "code",
      "source": [
        "rf=[]\n",
        "params=[{'n_estimators': [50, 100, 150,175],'max_depth':[5, 7, 10], 'max_features': [5, 15]}]\n",
        "\n",
        "classifier=RandomForestClassifier()\n",
        "\n",
        "bp,f1,accuracy=comparison_of_classifiers(classifier,params,x_train30,y_train30, x_test30,y_test30)\n",
        "rf.append([bp,f1,accuracy])\n",
        "\n",
        "bp,f1,accuracy=comparison_of_classifiers(classifier,params,x_train60,y_train60, x_test60,y_test60)\n",
        "rf.append([bp,f1,accuracy])\n",
        "\n",
        "bp,f1,accuracy=comparison_of_classifiers(classifier,params,x_train90,y_train90, x_test90,y_test90)\n",
        "rf.append([bp,f1,accuracy])\n",
        "\n",
        "rf"
      ],
      "metadata": {
        "id": "qNmdGKLi_aHY"
      },
      "execution_count": null,
      "outputs": []
    },
    {
      "cell_type": "code",
      "source": [
        "ada=[]\n",
        "params=[{'base_estimator':[1, 3, 5], 'learning_rate':[0.01, 0.1, 1], 'n_estimators':[100, 250, 400, 550]}]\n",
        "\n",
        "classifier=AdaBoostClassifier()\n",
        "\n",
        "bp,f1,accuracy=comparison_of_classifiers(classifier,params,x_train30_final,y_train30,x_test30,y_test30)\n",
        "ada.append([bp,f1,accuracy])\n",
        "\n",
        "bp,f1,accuracy=comparison_of_classifiers(classifier,params,x_train60,y_train60, x_test60,y_test60)\n",
        "ada.append([bp,f1,accuracy])\n",
        "\n",
        "bp,f1,accuracy=comparison_of_classifiers(classifier,params,x_train90,y_train90, x_test90,y_test90)\n",
        "ada.append([bp,f1,accuracy])\n",
        "\n",
        "ada"
      ],
      "metadata": {
        "id": "vVGj3QBf_qU3"
      },
      "execution_count": null,
      "outputs": []
    },
    {
      "cell_type": "code",
      "source": [
        "classifier=DecisionTreeClassifier()\n",
        "AdaBoostClassifier().get_params().keys()\n",
        "\n"
      ],
      "metadata": {
        "id": "qFUnYv6Q2ym3"
      },
      "execution_count": null,
      "outputs": []
    }
  ]
}